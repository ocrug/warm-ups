{
 "cells": [
  {
   "cell_type": "markdown",
   "metadata": {},
   "source": [
    "# Creating Factor Variables\n",
    "\n",
    "In the previous warm-up we explored how factor variables could\n",
    "be used to split a dataset.  Such splits are usually performed in\n",
    "order to apply a calculation to each split and perhaps even\n",
    "combine the results in a later step.  This scenario is so\n",
    "common that it has its own name: **split-apply-combine**.\n",
    "\n",
    "In the last warm-up we used factor variables that came with the\n",
    "original dataset for the split.  It's great when such factors\n",
    "are readily available.  But sometimes we need to split according\n",
    "to criteria that are not available with existing factor variables.\n",
    "In this case we often create one or more factor variables with\n",
    "values that capture the desired criteria and then perform the\n",
    "split with these new factor variables.\n",
    "\n",
    "\n",
    "## Regular Patterns\n",
    "\n",
    "Sometimes the data in your dataset is structured in regular\n",
    "patterns.  A useful function for generating factor variables\n",
    "in regular patterns is **gl** (for Generate Levels).  A few\n",
    "examples will help."
   ]
  },
  {
   "cell_type": "code",
   "execution_count": 1,
   "metadata": {},
   "outputs": [
    {
     "data": {
      "text/html": [
       "<ol class=list-inline>\n",
       "\t<li>this</li>\n",
       "\t<li>this</li>\n",
       "\t<li>this</li>\n",
       "\t<li>this</li>\n",
       "\t<li>that</li>\n",
       "\t<li>that</li>\n",
       "\t<li>that</li>\n",
       "\t<li>that</li>\n",
       "</ol>\n"
      ],
      "text/latex": [
       "\\begin{enumerate*}\n",
       "\\item this\n",
       "\\item this\n",
       "\\item this\n",
       "\\item this\n",
       "\\item that\n",
       "\\item that\n",
       "\\item that\n",
       "\\item that\n",
       "\\end{enumerate*}\n"
      ],
      "text/markdown": [
       "1. this\n",
       "2. this\n",
       "3. this\n",
       "4. this\n",
       "5. that\n",
       "6. that\n",
       "7. that\n",
       "8. that\n",
       "\n",
       "\n"
      ],
      "text/plain": [
       "[1] this this this this that that that that\n",
       "Levels: this that"
      ]
     },
     "metadata": {},
     "output_type": "display_data"
    }
   ],
   "source": [
    "gl(2, 4, labels=c('this', 'that'))"
   ]
  },
  {
   "cell_type": "code",
   "execution_count": 2,
   "metadata": {},
   "outputs": [
    {
     "data": {
      "text/html": [
       "<ol class=list-inline>\n",
       "\t<li>this</li>\n",
       "\t<li>that</li>\n",
       "\t<li>this</li>\n",
       "\t<li>that</li>\n",
       "\t<li>this</li>\n",
       "\t<li>that</li>\n",
       "\t<li>this</li>\n",
       "\t<li>that</li>\n",
       "</ol>\n"
      ],
      "text/latex": [
       "\\begin{enumerate*}\n",
       "\\item this\n",
       "\\item that\n",
       "\\item this\n",
       "\\item that\n",
       "\\item this\n",
       "\\item that\n",
       "\\item this\n",
       "\\item that\n",
       "\\end{enumerate*}\n"
      ],
      "text/markdown": [
       "1. this\n",
       "2. that\n",
       "3. this\n",
       "4. that\n",
       "5. this\n",
       "6. that\n",
       "7. this\n",
       "8. that\n",
       "\n",
       "\n"
      ],
      "text/plain": [
       "[1] this that this that this that this that\n",
       "Levels: this that"
      ]
     },
     "metadata": {},
     "output_type": "display_data"
    }
   ],
   "source": [
    "gl(2, 1, 8, labels=c('this', 'that'))"
   ]
  },
  {
   "cell_type": "markdown",
   "metadata": {},
   "source": [
    "The parameters to `gl` have the following description.\n",
    "\n",
    "* `n` - the number of levels to generate,\n",
    "* `k` - the number of consecutive times each level is repeated.\n",
    "* `l` - (optional) the total length, `n * k` by default\n",
    "* `labels` - (optional) names assigned to the factor values, defaults to integers\n",
    "\n",
    "We can see from the outputs above that the result is a regular\n",
    "pattern of two constants; so the first parameter is `2` in both\n",
    "cases.  The difference is in the number of times each constant\n",
    "is repeated.  In the first case, each constant is repeated `4`\n",
    "times.  This result in groups of four adjacent elements.\n",
    "\n",
    "The second example alternates every element; so the second\n",
    "parameter is `1`.  The default length of such a pattern is\n",
    "`n * k = 2 * 1 = 2`."
   ]
  },
  {
   "cell_type": "code",
   "execution_count": 4,
   "metadata": {},
   "outputs": [
    {
     "data": {
      "text/html": [
       "<ol class=list-inline>\n",
       "\t<li>this</li>\n",
       "\t<li>that</li>\n",
       "</ol>\n"
      ],
      "text/latex": [
       "\\begin{enumerate*}\n",
       "\\item this\n",
       "\\item that\n",
       "\\end{enumerate*}\n"
      ],
      "text/markdown": [
       "1. this\n",
       "2. that\n",
       "\n",
       "\n"
      ],
      "text/plain": [
       "[1] this that\n",
       "Levels: this that"
      ]
     },
     "metadata": {},
     "output_type": "display_data"
    }
   ],
   "source": [
    "gl(2, 1, labels=c('this', 'that'))"
   ]
  },
  {
   "cell_type": "markdown",
   "metadata": {},
   "source": [
    "In order to get eight elements like in the first example, we need\n",
    "to specify the optional third parameter as `8`.\n",
    "\n",
    "\n",
    "## Level Interactions\n",
    "\n",
    "We can create a factor from two existing factors through their\n",
    "**interaction** - that is, through the cross product of their\n",
    "possible values."
   ]
  },
  {
   "cell_type": "code",
   "execution_count": 5,
   "metadata": {},
   "outputs": [
    {
     "data": {
      "text/html": [
       "<ol class=list-inline>\n",
       "\t<li>this</li>\n",
       "\t<li>this</li>\n",
       "\t<li>that</li>\n",
       "\t<li>that</li>\n",
       "</ol>\n"
      ],
      "text/latex": [
       "\\begin{enumerate*}\n",
       "\\item this\n",
       "\\item this\n",
       "\\item that\n",
       "\\item that\n",
       "\\end{enumerate*}\n"
      ],
      "text/markdown": [
       "1. this\n",
       "2. this\n",
       "3. that\n",
       "4. that\n",
       "\n",
       "\n"
      ],
      "text/plain": [
       "[1] this this that that\n",
       "Levels: this that"
      ]
     },
     "metadata": {},
     "output_type": "display_data"
    },
    {
     "data": {
      "text/html": [
       "<ol class=list-inline>\n",
       "\t<li>one</li>\n",
       "\t<li>other</li>\n",
       "</ol>\n"
      ],
      "text/latex": [
       "\\begin{enumerate*}\n",
       "\\item one\n",
       "\\item other\n",
       "\\end{enumerate*}\n"
      ],
      "text/markdown": [
       "1. one\n",
       "2. other\n",
       "\n",
       "\n"
      ],
      "text/plain": [
       "[1] one   other\n",
       "Levels: one other"
      ]
     },
     "metadata": {},
     "output_type": "display_data"
    },
    {
     "data": {
      "text/html": [
       "<ol class=list-inline>\n",
       "\t<li>this.one</li>\n",
       "\t<li>this.other</li>\n",
       "\t<li>that.one</li>\n",
       "\t<li>that.other</li>\n",
       "</ol>\n"
      ],
      "text/latex": [
       "\\begin{enumerate*}\n",
       "\\item this.one\n",
       "\\item this.other\n",
       "\\item that.one\n",
       "\\item that.other\n",
       "\\end{enumerate*}\n"
      ],
      "text/markdown": [
       "1. this.one\n",
       "2. this.other\n",
       "3. that.one\n",
       "4. that.other\n",
       "\n",
       "\n"
      ],
      "text/plain": [
       "[1] this.one   this.other that.one   that.other\n",
       "Levels: this.one that.one this.other that.other"
      ]
     },
     "metadata": {},
     "output_type": "display_data"
    }
   ],
   "source": [
    "f1 <- gl(2, 2, labels=c('this', 'that'))\n",
    "f1\n",
    "f2 <- gl(2, 1, labels=c('one', 'other'))\n",
    "f2\n",
    "interaction(f1, f2)"
   ]
  },
  {
   "cell_type": "markdown",
   "metadata": {},
   "source": [
    "Note that `f2` is only length `2`; `f1` is length `4`.\n",
    "Two factors must be the same length in order to interact them.\n",
    "Since the length of `f1` is a multiple of the length of `f2`,\n",
    "*recycling* was used to extend `f2` for the interaction."
   ]
  },
  {
   "cell_type": "code",
   "execution_count": null,
   "metadata": {
    "collapsed": true
   },
   "outputs": [],
   "source": []
  }
 ],
 "metadata": {
  "kernelspec": {
   "display_name": "R",
   "language": "R",
   "name": "ir"
  },
  "language_info": {
   "codemirror_mode": "r",
   "file_extension": ".r",
   "mimetype": "text/x-r-source",
   "name": "R",
   "pygments_lexer": "r",
   "version": "3.3.2"
  }
 },
 "nbformat": 4,
 "nbformat_minor": 1
}
