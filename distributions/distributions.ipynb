{
 "cells": [
  {
   "cell_type": "markdown",
   "metadata": {},
   "source": [
    "# 1. Introduction\n",
    "\n",
    "This set of *R warm-ups* provides practice with probability\n",
    "distributions.\n",
    "\n",
    "## 1.1. Preparation\n",
    "\n",
    "Since R is oriented toward statistics, no special preparation is\n",
    "required to work with distributions.\n",
    "You can obtain a list of *baked-in* distributions by entering\n",
    "\n",
    "```\n",
    "?Distributions\n",
    "```\n",
    "\n",
    "These are all part of the **stats** package which is available\n",
    "in every R installation.\n",
    "\n",
    "## 1.2 Conventions\n",
    "\n",
    "R has a consistent naming convention for functions that work\n",
    "with distributions - a single letter followed by the name of\n",
    "the distribution.  The four single letters are\n",
    "\n",
    "* `d` - density function\n",
    "* `p` - percent point function (CDF)\n",
    "* `q` - quantile (inverse of CDF)\n",
    "* `r` - random sampler\n",
    "\n",
    "If we take the binomial distribution as an example, then\n",
    "`dbinom` is a *binomial density function*.\n",
    "\n",
    "Throughout this tutorial we'll use the **round** function\n",
    "to limit the size of the output to two or three decimal points.\n",
    "It has the syntax of\n",
    "\n",
    "```\n",
    "round(x, 3)\n",
    "```\n",
    "\n",
    "where `x` is the number or vector you wish to round and `3`\n",
    "is the number of digits to the left of the decimal point.\n",
    "This is not required as you follow along.  It's simply done\n",
    "here for the notebook presentation."
   ]
  },
  {
   "cell_type": "code",
   "execution_count": 1,
   "metadata": {},
   "outputs": [
    {
     "data": {
      "text/html": [
       "0.2"
      ],
      "text/latex": [
       "0.2"
      ],
      "text/markdown": [
       "0.2"
      ],
      "text/plain": [
       "[1] 0.2"
      ]
     },
     "metadata": {},
     "output_type": "display_data"
    }
   ],
   "source": [
    "x <- dbinom(4, 10, 0.3)\n",
    "round(x, 3)"
   ]
  },
  {
   "cell_type": "markdown",
   "metadata": {},
   "source": [
    "This gives the probability of getting **4** successes after **10**\n",
    "bernoulli trials where each success has a probability of **0.3**;\n",
    "which is about **20%**.\n",
    "\n",
    "# 2 Discrete Distributions\n",
    "\n",
    "## 2.1 Binomial Distribution\n",
    "\n",
    "The binomial distribution has a `binom` suffix for each of\n",
    "its standard methods.  We'll assume 100 trials with 20%\n",
    "chance of success at each trial.  The value of the random\n",
    "variable is the number of successes.\n",
    "Let's start with the density function `dbinom`.\n",
    "This is equation (7) of the math supplement.\n",
    "\n",
    "$$\n",
    "f_X(i) = \\sum_{i=0}^n {n \\choose i} p^i (1-p)^{n-i}\n",
    "$$\n",
    "\n",
    "Here we consider the case of $n=100$ and $p=0.2$.\n",
    "We suspect that the highest probability will be around 20\n",
    "successes since the probability of each success is 0.2 and\n",
    "there are 100 trials.  The `dbinom` function accepts numeric\n",
    "vectors, so we'll check `10`, `20`, and `30` in one go."
   ]
  },
  {
   "cell_type": "code",
   "execution_count": 2,
   "metadata": {},
   "outputs": [
    {
     "data": {
      "text/html": [
       "<ol class=list-inline>\n",
       "\t<li>0.003</li>\n",
       "\t<li>0.099</li>\n",
       "\t<li>0.005</li>\n",
       "</ol>\n"
      ],
      "text/latex": [
       "\\begin{enumerate*}\n",
       "\\item 0.003\n",
       "\\item 0.099\n",
       "\\item 0.005\n",
       "\\end{enumerate*}\n"
      ],
      "text/markdown": [
       "1. 0.003\n",
       "2. 0.099\n",
       "3. 0.005\n",
       "\n",
       "\n"
      ],
      "text/plain": [
       "[1] 0.003 0.099 0.005"
      ]
     },
     "metadata": {},
     "output_type": "display_data"
    }
   ],
   "source": [
    "x <- dbinom(c(10, 20, 30), 100, 0.2)\n",
    "round(x, 3)"
   ]
  },
  {
   "cell_type": "markdown",
   "metadata": {},
   "source": [
    "Sure enough, the density functon shows a 9.9% chance of\n",
    "obtaining exactly 20 successes.  The probability for 10\n",
    "and 30 are each less than 1%.\n",
    "\n",
    "Now let's check the associated cumulative distribution\n",
    "function, or CDF.  The CDF at a point is the cumulation\n",
    "of probability from the density function for all points\n",
    "equal or less.  Since we expect the average to be around\n",
    "20, the CDF should be close to 0.5 at 20."
   ]
  },
  {
   "cell_type": "code",
   "execution_count": 3,
   "metadata": {},
   "outputs": [
    {
     "data": {
      "text/html": [
       "<ol class=list-inline>\n",
       "\t<li>0.006</li>\n",
       "\t<li>0.559</li>\n",
       "\t<li>0.994</li>\n",
       "</ol>\n"
      ],
      "text/latex": [
       "\\begin{enumerate*}\n",
       "\\item 0.006\n",
       "\\item 0.559\n",
       "\\item 0.994\n",
       "\\end{enumerate*}\n"
      ],
      "text/markdown": [
       "1. 0.006\n",
       "2. 0.559\n",
       "3. 0.994\n",
       "\n",
       "\n"
      ],
      "text/plain": [
       "[1] 0.006 0.559 0.994"
      ]
     },
     "metadata": {},
     "output_type": "display_data"
    }
   ],
   "source": [
    "x <- pbinom(c(10, 20, 30), 100, 0.2)\n",
    "round(x, 3)"
   ]
  },
  {
   "cell_type": "markdown",
   "metadata": {},
   "source": [
    "This shows that the probability of having *less than or equal\n",
    "to 10 successes* is 0.6%.  The probability of having less\n",
    "than or equal to 30 successes is 99.4%.\n",
    "\n",
    "To better see the relationship between the probability density\n",
    "(PDF) and cumulative distribution (CDF), we can plot them."
   ]
  },
  {
   "cell_type": "code",
   "execution_count": 4,
   "metadata": {
    "collapsed": true
   },
   "outputs": [],
   "source": [
    "options(repr.plot.width=6, repr.plot.height=4) # For jupyter notebooks."
   ]
  },
  {
   "cell_type": "code",
   "execution_count": 5,
   "metadata": {},
   "outputs": [
    {
     "data": {
      "image/png": "[encoded data removed]",
      "text/plain": [
       "Plot with title “Binomial PDF and CDF for n=100, p=0.2”"
      ]
     },
     "metadata": {},
     "output_type": "display_data"
    }
   ],
   "source": [
    "x <- seq(0, 100)\n",
    "plot(x, pbinom(x, 100, 0.2), col=\"blue\", pch=19)\n",
    "points(x, dbinom(x, 100, 0.2)*5, col=\"red\", pch=19)\n",
    "title(main=\"Binomial PDF and CDF for n=100, p=0.2\")\n",
    "legend('topleft', c('CDF', 'PDF x 5'), text.col=c('blue', 'red'),\n",
    "       bty='n', y.intersp=2)"
   ]
  },
  {
   "cell_type": "markdown",
   "metadata": {},
   "source": [
    "The PDF was scaled by 5 so that we could discern its shape better.\n",
    "\n",
    "**Quantiles** are the inverse of the CDF function.  For any\n",
    "probability, a quantile function tells us the value of the\n",
    "random variable for which the CDF is equal to that probability.\n",
    "\n",
    "How many successes can we expect to have 25%, 50%, and 75%\n",
    "of the time?"
   ]
  },
  {
   "cell_type": "code",
   "execution_count": 6,
   "metadata": {},
   "outputs": [
    {
     "data": {
      "text/html": [
       "<ol class=list-inline>\n",
       "\t<li>17</li>\n",
       "\t<li>20</li>\n",
       "\t<li>23</li>\n",
       "</ol>\n"
      ],
      "text/latex": [
       "\\begin{enumerate*}\n",
       "\\item 17\n",
       "\\item 20\n",
       "\\item 23\n",
       "\\end{enumerate*}\n"
      ],
      "text/markdown": [
       "1. 17\n",
       "2. 20\n",
       "3. 23\n",
       "\n",
       "\n"
      ],
      "text/plain": [
       "[1] 17 20 23"
      ]
     },
     "metadata": {},
     "output_type": "display_data"
    }
   ],
   "source": [
    "qbinom(c(0.25, 0.5, 0.75), 100, 0.2)"
   ]
  },
  {
   "cell_type": "markdown",
   "metadata": {},
   "source": [
    "The reason these come out to exact integers is because the\n",
    "binomial random variable only takes integer values.  The\n",
    "`qbinom` can be interpreted as *the smallest integer number\n",
    "of successes with probability greater than or equal to the\n",
    "argument*.  So it's not a strict inverse in the discrete\n",
    "case.\n",
    "\n",
    "The binomial CDF is provided by `pbinom`. "
   ]
  },
  {
   "cell_type": "code",
   "execution_count": 7,
   "metadata": {},
   "outputs": [
    {
     "data": {
      "text/html": [
       "<ol class=list-inline>\n",
       "\t<li>0.192</li>\n",
       "\t<li>0.271</li>\n",
       "\t<li>0.46</li>\n",
       "\t<li>0.559</li>\n",
       "\t<li>0.739</li>\n",
       "\t<li>0.811</li>\n",
       "</ol>\n"
      ],
      "text/latex": [
       "\\begin{enumerate*}\n",
       "\\item 0.192\n",
       "\\item 0.271\n",
       "\\item 0.46\n",
       "\\item 0.559\n",
       "\\item 0.739\n",
       "\\item 0.811\n",
       "\\end{enumerate*}\n"
      ],
      "text/markdown": [
       "1. 0.192\n",
       "2. 0.271\n",
       "3. 0.46\n",
       "4. 0.559\n",
       "5. 0.739\n",
       "6. 0.811\n",
       "\n",
       "\n"
      ],
      "text/plain": [
       "[1] 0.192 0.271 0.460 0.559 0.739 0.811"
      ]
     },
     "metadata": {},
     "output_type": "display_data"
    }
   ],
   "source": [
    "x <- pbinom(c(16, 17, 19, 20, 22, 23), 100, 0.2)\n",
    "round(x, 3)"
   ]
  },
  {
   "cell_type": "markdown",
   "metadata": {},
   "source": [
    "Sometimes it's useful to generate samples from a distribution.\n",
    "In other words, the numbers are generated as if they came\n",
    "from running the experiement associated with the model.\n",
    "The `rbinom` function is used for this."
   ]
  },
  {
   "cell_type": "code",
   "execution_count": 8,
   "metadata": {},
   "outputs": [
    {
     "data": {
      "text/html": [
       "<ol class=list-inline>\n",
       "\t<li>20</li>\n",
       "\t<li>11</li>\n",
       "\t<li>20</li>\n",
       "\t<li>25</li>\n",
       "\t<li>25</li>\n",
       "\t<li>21</li>\n",
       "\t<li>16</li>\n",
       "\t<li>16</li>\n",
       "\t<li>23</li>\n",
       "\t<li>15</li>\n",
       "\t<li>24</li>\n",
       "\t<li>15</li>\n",
       "\t<li>19</li>\n",
       "\t<li>22</li>\n",
       "\t<li>24</li>\n",
       "\t<li>19</li>\n",
       "\t<li>21</li>\n",
       "\t<li>19</li>\n",
       "\t<li>21</li>\n",
       "\t<li>20</li>\n",
       "\t<li>18</li>\n",
       "\t<li>22</li>\n",
       "\t<li>23</li>\n",
       "\t<li>20</li>\n",
       "\t<li>24</li>\n",
       "\t<li>16</li>\n",
       "\t<li>22</li>\n",
       "\t<li>15</li>\n",
       "\t<li>18</li>\n",
       "\t<li>18</li>\n",
       "\t<li>21</li>\n",
       "\t<li>18</li>\n",
       "\t<li>19</li>\n",
       "\t<li>27</li>\n",
       "\t<li>23</li>\n",
       "\t<li>18</li>\n",
       "\t<li>19</li>\n",
       "\t<li>22</li>\n",
       "\t<li>19</li>\n",
       "\t<li>19</li>\n",
       "\t<li>20</li>\n",
       "\t<li>25</li>\n",
       "\t<li>26</li>\n",
       "\t<li>10</li>\n",
       "\t<li>16</li>\n",
       "\t<li>18</li>\n",
       "\t<li>20</li>\n",
       "\t<li>24</li>\n",
       "\t<li>18</li>\n",
       "\t<li>20</li>\n",
       "\t<li>24</li>\n",
       "\t<li>18</li>\n",
       "\t<li>23</li>\n",
       "\t<li>28</li>\n",
       "\t<li>24</li>\n",
       "\t<li>20</li>\n",
       "\t<li>17</li>\n",
       "\t<li>21</li>\n",
       "\t<li>22</li>\n",
       "\t<li>23</li>\n",
       "\t<li>23</li>\n",
       "\t<li>23</li>\n",
       "\t<li>20</li>\n",
       "\t<li>21</li>\n",
       "\t<li>21</li>\n",
       "\t<li>18</li>\n",
       "\t<li>21</li>\n",
       "\t<li>15</li>\n",
       "\t<li>22</li>\n",
       "\t<li>25</li>\n",
       "\t<li>22</li>\n",
       "\t<li>23</li>\n",
       "\t<li>25</li>\n",
       "\t<li>19</li>\n",
       "\t<li>20</li>\n",
       "\t<li>25</li>\n",
       "\t<li>17</li>\n",
       "\t<li>27</li>\n",
       "\t<li>18</li>\n",
       "\t<li>18</li>\n",
       "\t<li>17</li>\n",
       "\t<li>15</li>\n",
       "\t<li>23</li>\n",
       "\t<li>13</li>\n",
       "\t<li>24</li>\n",
       "\t<li>21</li>\n",
       "\t<li>16</li>\n",
       "\t<li>20</li>\n",
       "\t<li>24</li>\n",
       "\t<li>13</li>\n",
       "\t<li>23</li>\n",
       "\t<li>23</li>\n",
       "\t<li>21</li>\n",
       "\t<li>19</li>\n",
       "\t<li>20</li>\n",
       "\t<li>16</li>\n",
       "\t<li>21</li>\n",
       "\t<li>28</li>\n",
       "\t<li>21</li>\n",
       "\t<li>23</li>\n",
       "</ol>\n"
      ],
      "text/latex": [
       "\\begin{enumerate*}\n",
       "\\item 20\n",
       "\\item 11\n",
       "\\item 20\n",
       "\\item 25\n",
       "\\item 25\n",
       "\\item 21\n",
       "\\item 16\n",
       "\\item 16\n",
       "\\item 23\n",
       "\\item 15\n",
       "\\item 24\n",
       "\\item 15\n",
       "\\item 19\n",
       "\\item 22\n",
       "\\item 24\n",
       "\\item 19\n",
       "\\item 21\n",
       "\\item 19\n",
       "\\item 21\n",
       "\\item 20\n",
       "\\item 18\n",
       "\\item 22\n",
       "\\item 23\n",
       "\\item 20\n",
       "\\item 24\n",
       "\\item 16\n",
       "\\item 22\n",
       "\\item 15\n",
       "\\item 18\n",
       "\\item 18\n",
       "\\item 21\n",
       "\\item 18\n",
       "\\item 19\n",
       "\\item 27\n",
       "\\item 23\n",
       "\\item 18\n",
       "\\item 19\n",
       "\\item 22\n",
       "\\item 19\n",
       "\\item 19\n",
       "\\item 20\n",
       "\\item 25\n",
       "\\item 26\n",
       "\\item 10\n",
       "\\item 16\n",
       "\\item 18\n",
       "\\item 20\n",
       "\\item 24\n",
       "\\item 18\n",
       "\\item 20\n",
       "\\item 24\n",
       "\\item 18\n",
       "\\item 23\n",
       "\\item 28\n",
       "\\item 24\n",
       "\\item 20\n",
       "\\item 17\n",
       "\\item 21\n",
       "\\item 22\n",
       "\\item 23\n",
       "\\item 23\n",
       "\\item 23\n",
       "\\item 20\n",
       "\\item 21\n",
       "\\item 21\n",
       "\\item 18\n",
       "\\item 21\n",
       "\\item 15\n",
       "\\item 22\n",
       "\\item 25\n",
       "\\item 22\n",
       "\\item 23\n",
       "\\item 25\n",
       "\\item 19\n",
       "\\item 20\n",
       "\\item 25\n",
       "\\item 17\n",
       "\\item 27\n",
       "\\item 18\n",
       "\\item 18\n",
       "\\item 17\n",
       "\\item 15\n",
       "\\item 23\n",
       "\\item 13\n",
       "\\item 24\n",
       "\\item 21\n",
       "\\item 16\n",
       "\\item 20\n",
       "\\item 24\n",
       "\\item 13\n",
       "\\item 23\n",
       "\\item 23\n",
       "\\item 21\n",
       "\\item 19\n",
       "\\item 20\n",
       "\\item 16\n",
       "\\item 21\n",
       "\\item 28\n",
       "\\item 21\n",
       "\\item 23\n",
       "\\end{enumerate*}\n"
      ],
      "text/markdown": [
       "1. 20\n",
       "2. 11\n",
       "3. 20\n",
       "4. 25\n",
       "5. 25\n",
       "6. 21\n",
       "7. 16\n",
       "8. 16\n",
       "9. 23\n",
       "10. 15\n",
       "11. 24\n",
       "12. 15\n",
       "13. 19\n",
       "14. 22\n",
       "15. 24\n",
       "16. 19\n",
       "17. 21\n",
       "18. 19\n",
       "19. 21\n",
       "20. 20\n",
       "21. 18\n",
       "22. 22\n",
       "23. 23\n",
       "24. 20\n",
       "25. 24\n",
       "26. 16\n",
       "27. 22\n",
       "28. 15\n",
       "29. 18\n",
       "30. 18\n",
       "31. 21\n",
       "32. 18\n",
       "33. 19\n",
       "34. 27\n",
       "35. 23\n",
       "36. 18\n",
       "37. 19\n",
       "38. 22\n",
       "39. 19\n",
       "40. 19\n",
       "41. 20\n",
       "42. 25\n",
       "43. 26\n",
       "44. 10\n",
       "45. 16\n",
       "46. 18\n",
       "47. 20\n",
       "48. 24\n",
       "49. 18\n",
       "50. 20\n",
       "51. 24\n",
       "52. 18\n",
       "53. 23\n",
       "54. 28\n",
       "55. 24\n",
       "56. 20\n",
       "57. 17\n",
       "58. 21\n",
       "59. 22\n",
       "60. 23\n",
       "61. 23\n",
       "62. 23\n",
       "63. 20\n",
       "64. 21\n",
       "65. 21\n",
       "66. 18\n",
       "67. 21\n",
       "68. 15\n",
       "69. 22\n",
       "70. 25\n",
       "71. 22\n",
       "72. 23\n",
       "73. 25\n",
       "74. 19\n",
       "75. 20\n",
       "76. 25\n",
       "77. 17\n",
       "78. 27\n",
       "79. 18\n",
       "80. 18\n",
       "81. 17\n",
       "82. 15\n",
       "83. 23\n",
       "84. 13\n",
       "85. 24\n",
       "86. 21\n",
       "87. 16\n",
       "88. 20\n",
       "89. 24\n",
       "90. 13\n",
       "91. 23\n",
       "92. 23\n",
       "93. 21\n",
       "94. 19\n",
       "95. 20\n",
       "96. 16\n",
       "97. 21\n",
       "98. 28\n",
       "99. 21\n",
       "100. 23\n",
       "\n",
       "\n"
      ],
      "text/plain": [
       "  [1] 20 11 20 25 25 21 16 16 23 15 24 15 19 22 24 19 21 19 21 20 18 22 23 20 24\n",
       " [26] 16 22 15 18 18 21 18 19 27 23 18 19 22 19 19 20 25 26 10 16 18 20 24 18 20\n",
       " [51] 24 18 23 28 24 20 17 21 22 23 23 23 20 21 21 18 21 15 22 25 22 23 25 19 20\n",
       " [76] 25 17 27 18 18 17 15 23 13 24 21 16 20 24 13 23 23 21 19 20 16 21 28 21 23"
      ]
     },
     "metadata": {},
     "output_type": "display_data"
    }
   ],
   "source": [
    "b_sample <- rbinom(1000, 100, 0.2)\n",
    "b_sample[1:100]"
   ]
  },
  {
   "cell_type": "markdown",
   "metadata": {},
   "source": [
    "This simulates the arduous task of \n",
    "\n",
    "1. flipping an unfair coin (with 20% chance of heads) 100 times,\n",
    "2. noting the number of heads,\n",
    "3. repeating steps 1 and 2 for 1,000 times\n",
    "\n",
    "It's fun to plot a histogram of our sample.  It should have a\n",
    "shape \"approaching\" our density function."
   ]
  },
  {
   "cell_type": "code",
   "execution_count": 9,
   "metadata": {},
   "outputs": [
    {
     "data": {
      "image/png": "[encoded data removed]",
      "text/plain": [
       "Plot with title “Histogram of b_sample”"
      ]
     },
     "metadata": {},
     "output_type": "display_data"
    }
   ],
   "source": [
    "hist(b_sample, breaks=30, xlim=c(0, 100), col=\"blue\")"
   ]
  },
  {
   "cell_type": "markdown",
   "metadata": {},
   "source": [
    "The `xlim` parameter allows us to explicitly determine the range of\n",
    "x values on the plot."
   ]
  },
  {
   "cell_type": "markdown",
   "metadata": {},
   "source": [
    "## 2.2 Poisson Distribution\n",
    "\n",
    "The Poisson random variable represents the number of occurrences of an event\n",
    "over a fixed interval of time.\n",
    "An example could be the number of crimes reported per day.\n",
    "The parameter of the random variable, usually\n",
    "denoted by $\\lambda$, turns out to be the expected number of occurrences.\n",
    "The Poisson density function is given by\n",
    "\n",
    "$$\n",
    "f_X(i;\\lambda) = e^{-\\lambda} \\frac{\\lambda^i}{i!}\n",
    "$$\n",
    "\n",
    "For each $i$, this represents the probability of observing $i$ counts within\n",
    "the unit time period.  R provides the usual four random variable functions\n",
    "for the Poisson random variable.\n",
    "\n",
    "* `dpois` - Poisson density (PMF) function\n",
    "* `ppois` - Poisson probability (CDF) function\n",
    "* `qpois` - Poisson quantile (inverse CDF) function\n",
    "* `rpois` - Poisson random sample\n",
    "\n",
    "Let's consider a case of a Poisson process where the expected\n",
    "number of occurrences per time period is 5.\n",
    "\n",
    "Since 5 is the expected value, we expect the mass function to be strong\n",
    "near 5.  Let's check this."
   ]
  },
  {
   "cell_type": "code",
   "execution_count": 10,
   "metadata": {},
   "outputs": [
    {
     "data": {
      "text/html": [
       "<ol class=list-inline>\n",
       "\t<li>0.14</li>\n",
       "\t<li>0.175</li>\n",
       "\t<li>0.104</li>\n",
       "</ol>\n"
      ],
      "text/latex": [
       "\\begin{enumerate*}\n",
       "\\item 0.14\n",
       "\\item 0.175\n",
       "\\item 0.104\n",
       "\\end{enumerate*}\n"
      ],
      "text/markdown": [
       "1. 0.14\n",
       "2. 0.175\n",
       "3. 0.104\n",
       "\n",
       "\n"
      ],
      "text/plain": [
       "[1] 0.140 0.175 0.104"
      ]
     },
     "metadata": {},
     "output_type": "display_data"
    }
   ],
   "source": [
    "x <- dpois(c(3, 5, 7), 5)\n",
    "round(x, 3)"
   ]
  },
  {
   "cell_type": "markdown",
   "metadata": {},
   "source": [
    "We see a 14% of getting a 3 count, an 18% chance of getting a 5 count\n",
    "and a 10% chance of getting a 7 count.  Now let's check the cumulative\n",
    "distribution function."
   ]
  },
  {
   "cell_type": "code",
   "execution_count": 11,
   "metadata": {},
   "outputs": [
    {
     "data": {
      "text/html": [
       "<ol class=list-inline>\n",
       "\t<li>0.265</li>\n",
       "\t<li>0.616</li>\n",
       "\t<li>0.867</li>\n",
       "</ol>\n"
      ],
      "text/latex": [
       "\\begin{enumerate*}\n",
       "\\item 0.265\n",
       "\\item 0.616\n",
       "\\item 0.867\n",
       "\\end{enumerate*}\n"
      ],
      "text/markdown": [
       "1. 0.265\n",
       "2. 0.616\n",
       "3. 0.867\n",
       "\n",
       "\n"
      ],
      "text/plain": [
       "[1] 0.265 0.616 0.867"
      ]
     },
     "metadata": {},
     "output_type": "display_data"
    }
   ],
   "source": [
    "x <- ppois(c(3, 5, 7), 5)\n",
    "round(x, 3)"
   ]
  },
  {
   "cell_type": "markdown",
   "metadata": {},
   "source": [
    "The chance of getting\n",
    "\n",
    "* 3 or less is 27%\n",
    "* 5 or less is 62%\n",
    "* 7 or less is 87%\n",
    "\n",
    "Let's view this graphically."
   ]
  },
  {
   "cell_type": "code",
   "execution_count": 12,
   "metadata": {},
   "outputs": [
    {
     "data": {
      "image/png": "[encoded data removed]",
      "text/plain": [
       "Plot with title “Poisson density and distribution for lambda = 5”"
      ]
     },
     "metadata": {},
     "output_type": "display_data"
    }
   ],
   "source": [
    "x <- seq(0, 20)\n",
    "plot(x, ppois(x, 5), col=\"blue\", pch=19)\n",
    "points(x, dpois(x, 5) * 2, col=\"red\", pch=19)\n",
    "title(main=\"Poisson density and distribution for lambda = 5\")\n",
    "legend('topleft', c('CDF', 'PDF x 2'), text.col=c('blue', 'red'),\n",
    "       bty='n', y.intersp=2)"
   ]
  },
  {
   "cell_type": "markdown",
   "metadata": {},
   "source": [
    "The standard quantiles are giving by"
   ]
  },
  {
   "cell_type": "code",
   "execution_count": 13,
   "metadata": {},
   "outputs": [
    {
     "data": {
      "text/html": [
       "<ol class=list-inline>\n",
       "\t<li>3</li>\n",
       "\t<li>5</li>\n",
       "\t<li>6</li>\n",
       "</ol>\n"
      ],
      "text/latex": [
       "\\begin{enumerate*}\n",
       "\\item 3\n",
       "\\item 5\n",
       "\\item 6\n",
       "\\end{enumerate*}\n"
      ],
      "text/markdown": [
       "1. 3\n",
       "2. 5\n",
       "3. 6\n",
       "\n",
       "\n"
      ],
      "text/plain": [
       "[1] 3 5 6"
      ]
     },
     "metadata": {},
     "output_type": "display_data"
    }
   ],
   "source": [
    "qpois(c(0.25, 0.5, 0.75), 5)"
   ]
  },
  {
   "cell_type": "markdown",
   "metadata": {},
   "source": [
    "* 3 is the smallest count that occurs at least 25% of the time\n",
    "* 5 is the smallest count that occurs at least 50% of the time\n",
    "* 6 is the smallest count that occurs at least 75% of the time\n",
    "\n",
    "Finally, let's run a Poisson simulation with 1,000 trials with\n",
    "$\\lambda = 5$."
   ]
  },
  {
   "cell_type": "code",
   "execution_count": 14,
   "metadata": {},
   "outputs": [
    {
     "data": {
      "text/html": [
       "<ol class=list-inline>\n",
       "\t<li>6</li>\n",
       "\t<li>7</li>\n",
       "\t<li>6</li>\n",
       "\t<li>6</li>\n",
       "\t<li>5</li>\n",
       "\t<li>7</li>\n",
       "\t<li>7</li>\n",
       "\t<li>3</li>\n",
       "\t<li>6</li>\n",
       "\t<li>8</li>\n",
       "\t<li>8</li>\n",
       "\t<li>5</li>\n",
       "\t<li>5</li>\n",
       "\t<li>4</li>\n",
       "\t<li>2</li>\n",
       "\t<li>7</li>\n",
       "\t<li>6</li>\n",
       "\t<li>5</li>\n",
       "\t<li>3</li>\n",
       "\t<li>2</li>\n",
       "\t<li>4</li>\n",
       "\t<li>4</li>\n",
       "\t<li>5</li>\n",
       "\t<li>1</li>\n",
       "\t<li>3</li>\n",
       "\t<li>10</li>\n",
       "\t<li>8</li>\n",
       "\t<li>1</li>\n",
       "\t<li>6</li>\n",
       "\t<li>7</li>\n",
       "\t<li>4</li>\n",
       "\t<li>5</li>\n",
       "\t<li>7</li>\n",
       "\t<li>1</li>\n",
       "\t<li>7</li>\n",
       "\t<li>6</li>\n",
       "\t<li>6</li>\n",
       "\t<li>7</li>\n",
       "\t<li>8</li>\n",
       "\t<li>5</li>\n",
       "\t<li>2</li>\n",
       "\t<li>9</li>\n",
       "\t<li>10</li>\n",
       "\t<li>1</li>\n",
       "\t<li>3</li>\n",
       "\t<li>1</li>\n",
       "\t<li>4</li>\n",
       "\t<li>7</li>\n",
       "\t<li>6</li>\n",
       "\t<li>4</li>\n",
       "\t<li>5</li>\n",
       "\t<li>7</li>\n",
       "\t<li>4</li>\n",
       "\t<li>10</li>\n",
       "\t<li>5</li>\n",
       "\t<li>5</li>\n",
       "\t<li>3</li>\n",
       "\t<li>2</li>\n",
       "\t<li>4</li>\n",
       "\t<li>8</li>\n",
       "\t<li>3</li>\n",
       "\t<li>6</li>\n",
       "\t<li>6</li>\n",
       "\t<li>4</li>\n",
       "\t<li>6</li>\n",
       "\t<li>4</li>\n",
       "\t<li>5</li>\n",
       "\t<li>5</li>\n",
       "\t<li>9</li>\n",
       "\t<li>4</li>\n",
       "\t<li>5</li>\n",
       "\t<li>5</li>\n",
       "\t<li>6</li>\n",
       "\t<li>3</li>\n",
       "\t<li>8</li>\n",
       "\t<li>3</li>\n",
       "\t<li>4</li>\n",
       "\t<li>2</li>\n",
       "\t<li>7</li>\n",
       "\t<li>5</li>\n",
       "\t<li>2</li>\n",
       "\t<li>6</li>\n",
       "\t<li>7</li>\n",
       "\t<li>2</li>\n",
       "\t<li>3</li>\n",
       "\t<li>6</li>\n",
       "\t<li>5</li>\n",
       "\t<li>6</li>\n",
       "\t<li>5</li>\n",
       "\t<li>3</li>\n",
       "\t<li>5</li>\n",
       "\t<li>2</li>\n",
       "\t<li>6</li>\n",
       "\t<li>3</li>\n",
       "\t<li>8</li>\n",
       "\t<li>5</li>\n",
       "\t<li>6</li>\n",
       "\t<li>4</li>\n",
       "\t<li>4</li>\n",
       "\t<li>4</li>\n",
       "</ol>\n"
      ],
      "text/latex": [
       "\\begin{enumerate*}\n",
       "\\item 6\n",
       "\\item 7\n",
       "\\item 6\n",
       "\\item 6\n",
       "\\item 5\n",
       "\\item 7\n",
       "\\item 7\n",
       "\\item 3\n",
       "\\item 6\n",
       "\\item 8\n",
       "\\item 8\n",
       "\\item 5\n",
       "\\item 5\n",
       "\\item 4\n",
       "\\item 2\n",
       "\\item 7\n",
       "\\item 6\n",
       "\\item 5\n",
       "\\item 3\n",
       "\\item 2\n",
       "\\item 4\n",
       "\\item 4\n",
       "\\item 5\n",
       "\\item 1\n",
       "\\item 3\n",
       "\\item 10\n",
       "\\item 8\n",
       "\\item 1\n",
       "\\item 6\n",
       "\\item 7\n",
       "\\item 4\n",
       "\\item 5\n",
       "\\item 7\n",
       "\\item 1\n",
       "\\item 7\n",
       "\\item 6\n",
       "\\item 6\n",
       "\\item 7\n",
       "\\item 8\n",
       "\\item 5\n",
       "\\item 2\n",
       "\\item 9\n",
       "\\item 10\n",
       "\\item 1\n",
       "\\item 3\n",
       "\\item 1\n",
       "\\item 4\n",
       "\\item 7\n",
       "\\item 6\n",
       "\\item 4\n",
       "\\item 5\n",
       "\\item 7\n",
       "\\item 4\n",
       "\\item 10\n",
       "\\item 5\n",
       "\\item 5\n",
       "\\item 3\n",
       "\\item 2\n",
       "\\item 4\n",
       "\\item 8\n",
       "\\item 3\n",
       "\\item 6\n",
       "\\item 6\n",
       "\\item 4\n",
       "\\item 6\n",
       "\\item 4\n",
       "\\item 5\n",
       "\\item 5\n",
       "\\item 9\n",
       "\\item 4\n",
       "\\item 5\n",
       "\\item 5\n",
       "\\item 6\n",
       "\\item 3\n",
       "\\item 8\n",
       "\\item 3\n",
       "\\item 4\n",
       "\\item 2\n",
       "\\item 7\n",
       "\\item 5\n",
       "\\item 2\n",
       "\\item 6\n",
       "\\item 7\n",
       "\\item 2\n",
       "\\item 3\n",
       "\\item 6\n",
       "\\item 5\n",
       "\\item 6\n",
       "\\item 5\n",
       "\\item 3\n",
       "\\item 5\n",
       "\\item 2\n",
       "\\item 6\n",
       "\\item 3\n",
       "\\item 8\n",
       "\\item 5\n",
       "\\item 6\n",
       "\\item 4\n",
       "\\item 4\n",
       "\\item 4\n",
       "\\end{enumerate*}\n"
      ],
      "text/markdown": [
       "1. 6\n",
       "2. 7\n",
       "3. 6\n",
       "4. 6\n",
       "5. 5\n",
       "6. 7\n",
       "7. 7\n",
       "8. 3\n",
       "9. 6\n",
       "10. 8\n",
       "11. 8\n",
       "12. 5\n",
       "13. 5\n",
       "14. 4\n",
       "15. 2\n",
       "16. 7\n",
       "17. 6\n",
       "18. 5\n",
       "19. 3\n",
       "20. 2\n",
       "21. 4\n",
       "22. 4\n",
       "23. 5\n",
       "24. 1\n",
       "25. 3\n",
       "26. 10\n",
       "27. 8\n",
       "28. 1\n",
       "29. 6\n",
       "30. 7\n",
       "31. 4\n",
       "32. 5\n",
       "33. 7\n",
       "34. 1\n",
       "35. 7\n",
       "36. 6\n",
       "37. 6\n",
       "38. 7\n",
       "39. 8\n",
       "40. 5\n",
       "41. 2\n",
       "42. 9\n",
       "43. 10\n",
       "44. 1\n",
       "45. 3\n",
       "46. 1\n",
       "47. 4\n",
       "48. 7\n",
       "49. 6\n",
       "50. 4\n",
       "51. 5\n",
       "52. 7\n",
       "53. 4\n",
       "54. 10\n",
       "55. 5\n",
       "56. 5\n",
       "57. 3\n",
       "58. 2\n",
       "59. 4\n",
       "60. 8\n",
       "61. 3\n",
       "62. 6\n",
       "63. 6\n",
       "64. 4\n",
       "65. 6\n",
       "66. 4\n",
       "67. 5\n",
       "68. 5\n",
       "69. 9\n",
       "70. 4\n",
       "71. 5\n",
       "72. 5\n",
       "73. 6\n",
       "74. 3\n",
       "75. 8\n",
       "76. 3\n",
       "77. 4\n",
       "78. 2\n",
       "79. 7\n",
       "80. 5\n",
       "81. 2\n",
       "82. 6\n",
       "83. 7\n",
       "84. 2\n",
       "85. 3\n",
       "86. 6\n",
       "87. 5\n",
       "88. 6\n",
       "89. 5\n",
       "90. 3\n",
       "91. 5\n",
       "92. 2\n",
       "93. 6\n",
       "94. 3\n",
       "95. 8\n",
       "96. 5\n",
       "97. 6\n",
       "98. 4\n",
       "99. 4\n",
       "100. 4\n",
       "\n",
       "\n"
      ],
      "text/plain": [
       "  [1]  6  7  6  6  5  7  7  3  6  8  8  5  5  4  2  7  6  5  3  2  4  4  5  1  3\n",
       " [26] 10  8  1  6  7  4  5  7  1  7  6  6  7  8  5  2  9 10  1  3  1  4  7  6  4\n",
       " [51]  5  7  4 10  5  5  3  2  4  8  3  6  6  4  6  4  5  5  9  4  5  5  6  3  8\n",
       " [76]  3  4  2  7  5  2  6  7  2  3  6  5  6  5  3  5  2  6  3  8  5  6  4  4  4"
      ]
     },
     "metadata": {},
     "output_type": "display_data"
    }
   ],
   "source": [
    "poisson_sample <- rpois(1000, 5)\n",
    "poisson_sample[1:100]"
   ]
  },
  {
   "cell_type": "markdown",
   "metadata": {},
   "source": [
    "Let's check that our histogram looks anything like our PMF."
   ]
  },
  {
   "cell_type": "code",
   "execution_count": 15,
   "metadata": {},
   "outputs": [
    {
     "data": {
      "image/png": "[encoded data removed]",
      "text/plain": [
       "Plot with title “Histogram of poisson_sample”"
      ]
     },
     "metadata": {},
     "output_type": "display_data"
    }
   ],
   "source": [
    "hist(poisson_sample, breaks=20, xlim=c(0, 20), col=\"blue\")"
   ]
  },
  {
   "cell_type": "markdown",
   "metadata": {},
   "source": [
    "# 3 Continuous Distributions\n",
    "\n",
    "## 3.1 Normal Distribution\n",
    "\n",
    "The following functions address the normal distribution.\n",
    "\n",
    "* `dnorm` - density function\n",
    "* `pnorm` - cumulative distribution function\n",
    "* `qnorm` - quantiles\n",
    "* `rnorm` - random samples"
   ]
  },
  {
   "cell_type": "code",
   "execution_count": 16,
   "metadata": {},
   "outputs": [
    {
     "data": {
      "text/html": [
       "<ol class=list-inline>\n",
       "\t<li>0.004</li>\n",
       "\t<li>0.054</li>\n",
       "\t<li>0.242</li>\n",
       "\t<li>0.399</li>\n",
       "\t<li>0.242</li>\n",
       "\t<li>0.054</li>\n",
       "\t<li>0.004</li>\n",
       "</ol>\n"
      ],
      "text/latex": [
       "\\begin{enumerate*}\n",
       "\\item 0.004\n",
       "\\item 0.054\n",
       "\\item 0.242\n",
       "\\item 0.399\n",
       "\\item 0.242\n",
       "\\item 0.054\n",
       "\\item 0.004\n",
       "\\end{enumerate*}\n"
      ],
      "text/markdown": [
       "1. 0.004\n",
       "2. 0.054\n",
       "3. 0.242\n",
       "4. 0.399\n",
       "5. 0.242\n",
       "6. 0.054\n",
       "7. 0.004\n",
       "\n",
       "\n"
      ],
      "text/plain": [
       "[1] 0.004 0.054 0.242 0.399 0.242 0.054 0.004"
      ]
     },
     "metadata": {},
     "output_type": "display_data"
    }
   ],
   "source": [
    "x <- dnorm(c(-3, -2, -1, 0, 1, 2, 3))\n",
    "round(x, 3)"
   ]
  },
  {
   "cell_type": "markdown",
   "metadata": {},
   "source": [
    "The symmetric character of the normal distribution is apparent \n",
    "here. We don't interpret these as probabilities (like we did \n",
    "with discrete mass function) since the continuous case represents\n",
    "an infinitesimal range of the random variable. But we still extract\n",
    "probabilities from the CDF."
   ]
  },
  {
   "cell_type": "code",
   "execution_count": 17,
   "metadata": {},
   "outputs": [
    {
     "data": {
      "text/html": [
       "<ol class=list-inline>\n",
       "\t<li>0.001</li>\n",
       "\t<li>0.023</li>\n",
       "\t<li>0.159</li>\n",
       "\t<li>0.5</li>\n",
       "\t<li>0.841</li>\n",
       "\t<li>0.977</li>\n",
       "\t<li>0.999</li>\n",
       "</ol>\n"
      ],
      "text/latex": [
       "\\begin{enumerate*}\n",
       "\\item 0.001\n",
       "\\item 0.023\n",
       "\\item 0.159\n",
       "\\item 0.5\n",
       "\\item 0.841\n",
       "\\item 0.977\n",
       "\\item 0.999\n",
       "\\end{enumerate*}\n"
      ],
      "text/markdown": [
       "1. 0.001\n",
       "2. 0.023\n",
       "3. 0.159\n",
       "4. 0.5\n",
       "5. 0.841\n",
       "6. 0.977\n",
       "7. 0.999\n",
       "\n",
       "\n"
      ],
      "text/plain": [
       "[1] 0.001 0.023 0.159 0.500 0.841 0.977 0.999"
      ]
     },
     "metadata": {},
     "output_type": "display_data"
    }
   ],
   "source": [
    "x <- pnorm(c(-3, -2, -1, 0, 1, 2, 3))\n",
    "round(x, 3)"
   ]
  },
  {
   "cell_type": "markdown",
   "metadata": {},
   "source": [
    "Graphically the normal is the familiar bell curve."
   ]
  },
  {
   "cell_type": "code",
   "execution_count": 18,
   "metadata": {},
   "outputs": [
    {
     "data": {
      "image/png": "[encoded data removed]",
      "text/plain": [
       "Plot with title “Standard Normal PDF and CDF”"
      ]
     },
     "metadata": {},
     "output_type": "display_data"
    }
   ],
   "source": [
    "x <- seq(-3, 3, by=0.02)\n",
    "plot(x, pnorm(x), col='blue', type='l', lty='solid')\n",
    "lines(x, dnorm(x) * 2, col='red')\n",
    "title(main=\"Standard Normal PDF and CDF\", ylab=\"\", xlab=\"\")\n",
    "legend('topleft', c('CDF', 'PDF x 2'), text.col=c('blue', 'red'),\n",
    "       bty='n', y.intersp=2)"
   ]
  },
  {
   "cell_type": "markdown",
   "metadata": {},
   "source": [
    "The `qnorm` function provides quantile information.\n",
    "In other distributions we've shown quantile information for\n",
    "quarters, i.e. quartile information.  But due to the role\n",
    "of the normal distribution in the\n",
    "[Central Limit Theorem](https://en.wikipedia.org/wiki/Central_limit_theorem),\n",
    "we'll examine quantiles for 90%, 95%, and 97.5% since these are often\n",
    "referenced in the study of confidence intervals."
   ]
  },
  {
   "cell_type": "code",
   "execution_count": 19,
   "metadata": {},
   "outputs": [
    {
     "data": {
      "text/html": [
       "<ol class=list-inline>\n",
       "\t<li>0</li>\n",
       "\t<li>1.282</li>\n",
       "\t<li>1.645</li>\n",
       "\t<li>1.96</li>\n",
       "</ol>\n"
      ],
      "text/latex": [
       "\\begin{enumerate*}\n",
       "\\item 0\n",
       "\\item 1.282\n",
       "\\item 1.645\n",
       "\\item 1.96\n",
       "\\end{enumerate*}\n"
      ],
      "text/markdown": [
       "1. 0\n",
       "2. 1.282\n",
       "3. 1.645\n",
       "4. 1.96\n",
       "\n",
       "\n"
      ],
      "text/plain": [
       "[1] 0.000 1.282 1.645 1.960"
      ]
     },
     "metadata": {},
     "output_type": "display_data"
    }
   ],
   "source": [
    "x <- qnorm(c(0.5, 0.9, 0.95, 0.975))\n",
    "round(x, 3)"
   ]
  },
  {
   "cell_type": "markdown",
   "metadata": {},
   "source": [
    "Since the normal distribution is symmetric about the origin,\n",
    "we expect half to lie on one side of 0 and half on the other\n",
    "side.  The last number says that 97.5% of the curve lies to\n",
    "the left of **1.96**.  This is a number we commit to memory\n",
    "during the study of confidence intervals.\n",
    "\n",
    "Finally, let's run a normal simulation with 1,000 trials \n",
    "using $\\mu = 0$ and $\\sigma = 1$."
   ]
  },
  {
   "cell_type": "code",
   "execution_count": 20,
   "metadata": {},
   "outputs": [
    {
     "data": {
      "text/html": [
       "<ol class=list-inline>\n",
       "\t<li>-0.29</li>\n",
       "\t<li>1.89</li>\n",
       "\t<li>-1.57</li>\n",
       "\t<li>-0.41</li>\n",
       "\t<li>0.83</li>\n",
       "\t<li>-0.39</li>\n",
       "\t<li>1.51</li>\n",
       "\t<li>-0.26</li>\n",
       "\t<li>1.22</li>\n",
       "\t<li>1.7</li>\n",
       "\t<li>0.72</li>\n",
       "\t<li>-0.88</li>\n",
       "\t<li>-0.53</li>\n",
       "\t<li>-0.14</li>\n",
       "\t<li>0.37</li>\n",
       "\t<li>0.13</li>\n",
       "\t<li>-1.3</li>\n",
       "\t<li>0.67</li>\n",
       "\t<li>-1.07</li>\n",
       "\t<li>0</li>\n",
       "\t<li>-1.03</li>\n",
       "\t<li>2.16</li>\n",
       "\t<li>1.09</li>\n",
       "\t<li>0.63</li>\n",
       "\t<li>0.53</li>\n",
       "\t<li>-0.13</li>\n",
       "\t<li>0.54</li>\n",
       "\t<li>1.56</li>\n",
       "\t<li>-0.03</li>\n",
       "\t<li>-1.75</li>\n",
       "\t<li>-0.95</li>\n",
       "\t<li>1.47</li>\n",
       "\t<li>-0.37</li>\n",
       "\t<li>-1.21</li>\n",
       "\t<li>-0.3</li>\n",
       "\t<li>1.14</li>\n",
       "\t<li>1.03</li>\n",
       "\t<li>0.53</li>\n",
       "\t<li>-0.52</li>\n",
       "\t<li>0.92</li>\n",
       "\t<li>0.59</li>\n",
       "\t<li>-2.8</li>\n",
       "\t<li>-1.4</li>\n",
       "\t<li>0.68</li>\n",
       "\t<li>0.51</li>\n",
       "\t<li>0.57</li>\n",
       "\t<li>-0.77</li>\n",
       "\t<li>-2.4</li>\n",
       "\t<li>-1.13</li>\n",
       "\t<li>-0.41</li>\n",
       "\t<li>1.25</li>\n",
       "\t<li>0.07</li>\n",
       "\t<li>0.6</li>\n",
       "\t<li>-0.21</li>\n",
       "\t<li>-0.31</li>\n",
       "\t<li>0.26</li>\n",
       "\t<li>0.01</li>\n",
       "\t<li>-0.62</li>\n",
       "\t<li>-0.01</li>\n",
       "\t<li>0</li>\n",
       "\t<li>-0.57</li>\n",
       "\t<li>1.55</li>\n",
       "\t<li>0.17</li>\n",
       "\t<li>0.71</li>\n",
       "\t<li>-0.99</li>\n",
       "\t<li>1.89</li>\n",
       "\t<li>0.72</li>\n",
       "\t<li>-0.65</li>\n",
       "\t<li>0.27</li>\n",
       "\t<li>0.73</li>\n",
       "\t<li>0.27</li>\n",
       "\t<li>0.82</li>\n",
       "\t<li>-0.85</li>\n",
       "\t<li>-0.1</li>\n",
       "\t<li>1.81</li>\n",
       "\t<li>-0.38</li>\n",
       "\t<li>0.25</li>\n",
       "\t<li>0.91</li>\n",
       "\t<li>0.71</li>\n",
       "\t<li>-0.51</li>\n",
       "\t<li>-1.02</li>\n",
       "\t<li>-0.93</li>\n",
       "\t<li>0.83</li>\n",
       "\t<li>-0.81</li>\n",
       "\t<li>-0.42</li>\n",
       "\t<li>-0.15</li>\n",
       "\t<li>1.51</li>\n",
       "\t<li>-1</li>\n",
       "\t<li>1.36</li>\n",
       "\t<li>0.1</li>\n",
       "\t<li>-0.3</li>\n",
       "\t<li>-0.33</li>\n",
       "\t<li>0.01</li>\n",
       "\t<li>-1.39</li>\n",
       "\t<li>1.35</li>\n",
       "\t<li>0.68</li>\n",
       "\t<li>0.02</li>\n",
       "\t<li>-1.34</li>\n",
       "\t<li>0.59</li>\n",
       "\t<li>0.59</li>\n",
       "</ol>\n"
      ],
      "text/latex": [
       "\\begin{enumerate*}\n",
       "\\item -0.29\n",
       "\\item 1.89\n",
       "\\item -1.57\n",
       "\\item -0.41\n",
       "\\item 0.83\n",
       "\\item -0.39\n",
       "\\item 1.51\n",
       "\\item -0.26\n",
       "\\item 1.22\n",
       "\\item 1.7\n",
       "\\item 0.72\n",
       "\\item -0.88\n",
       "\\item -0.53\n",
       "\\item -0.14\n",
       "\\item 0.37\n",
       "\\item 0.13\n",
       "\\item -1.3\n",
       "\\item 0.67\n",
       "\\item -1.07\n",
       "\\item 0\n",
       "\\item -1.03\n",
       "\\item 2.16\n",
       "\\item 1.09\n",
       "\\item 0.63\n",
       "\\item 0.53\n",
       "\\item -0.13\n",
       "\\item 0.54\n",
       "\\item 1.56\n",
       "\\item -0.03\n",
       "\\item -1.75\n",
       "\\item -0.95\n",
       "\\item 1.47\n",
       "\\item -0.37\n",
       "\\item -1.21\n",
       "\\item -0.3\n",
       "\\item 1.14\n",
       "\\item 1.03\n",
       "\\item 0.53\n",
       "\\item -0.52\n",
       "\\item 0.92\n",
       "\\item 0.59\n",
       "\\item -2.8\n",
       "\\item -1.4\n",
       "\\item 0.68\n",
       "\\item 0.51\n",
       "\\item 0.57\n",
       "\\item -0.77\n",
       "\\item -2.4\n",
       "\\item -1.13\n",
       "\\item -0.41\n",
       "\\item 1.25\n",
       "\\item 0.07\n",
       "\\item 0.6\n",
       "\\item -0.21\n",
       "\\item -0.31\n",
       "\\item 0.26\n",
       "\\item 0.01\n",
       "\\item -0.62\n",
       "\\item -0.01\n",
       "\\item 0\n",
       "\\item -0.57\n",
       "\\item 1.55\n",
       "\\item 0.17\n",
       "\\item 0.71\n",
       "\\item -0.99\n",
       "\\item 1.89\n",
       "\\item 0.72\n",
       "\\item -0.65\n",
       "\\item 0.27\n",
       "\\item 0.73\n",
       "\\item 0.27\n",
       "\\item 0.82\n",
       "\\item -0.85\n",
       "\\item -0.1\n",
       "\\item 1.81\n",
       "\\item -0.38\n",
       "\\item 0.25\n",
       "\\item 0.91\n",
       "\\item 0.71\n",
       "\\item -0.51\n",
       "\\item -1.02\n",
       "\\item -0.93\n",
       "\\item 0.83\n",
       "\\item -0.81\n",
       "\\item -0.42\n",
       "\\item -0.15\n",
       "\\item 1.51\n",
       "\\item -1\n",
       "\\item 1.36\n",
       "\\item 0.1\n",
       "\\item -0.3\n",
       "\\item -0.33\n",
       "\\item 0.01\n",
       "\\item -1.39\n",
       "\\item 1.35\n",
       "\\item 0.68\n",
       "\\item 0.02\n",
       "\\item -1.34\n",
       "\\item 0.59\n",
       "\\item 0.59\n",
       "\\end{enumerate*}\n"
      ],
      "text/markdown": [
       "1. -0.29\n",
       "2. 1.89\n",
       "3. -1.57\n",
       "4. -0.41\n",
       "5. 0.83\n",
       "6. -0.39\n",
       "7. 1.51\n",
       "8. -0.26\n",
       "9. 1.22\n",
       "10. 1.7\n",
       "11. 0.72\n",
       "12. -0.88\n",
       "13. -0.53\n",
       "14. -0.14\n",
       "15. 0.37\n",
       "16. 0.13\n",
       "17. -1.3\n",
       "18. 0.67\n",
       "19. -1.07\n",
       "20. 0\n",
       "21. -1.03\n",
       "22. 2.16\n",
       "23. 1.09\n",
       "24. 0.63\n",
       "25. 0.53\n",
       "26. -0.13\n",
       "27. 0.54\n",
       "28. 1.56\n",
       "29. -0.03\n",
       "30. -1.75\n",
       "31. -0.95\n",
       "32. 1.47\n",
       "33. -0.37\n",
       "34. -1.21\n",
       "35. -0.3\n",
       "36. 1.14\n",
       "37. 1.03\n",
       "38. 0.53\n",
       "39. -0.52\n",
       "40. 0.92\n",
       "41. 0.59\n",
       "42. -2.8\n",
       "43. -1.4\n",
       "44. 0.68\n",
       "45. 0.51\n",
       "46. 0.57\n",
       "47. -0.77\n",
       "48. -2.4\n",
       "49. -1.13\n",
       "50. -0.41\n",
       "51. 1.25\n",
       "52. 0.07\n",
       "53. 0.6\n",
       "54. -0.21\n",
       "55. -0.31\n",
       "56. 0.26\n",
       "57. 0.01\n",
       "58. -0.62\n",
       "59. -0.01\n",
       "60. 0\n",
       "61. -0.57\n",
       "62. 1.55\n",
       "63. 0.17\n",
       "64. 0.71\n",
       "65. -0.99\n",
       "66. 1.89\n",
       "67. 0.72\n",
       "68. -0.65\n",
       "69. 0.27\n",
       "70. 0.73\n",
       "71. 0.27\n",
       "72. 0.82\n",
       "73. -0.85\n",
       "74. -0.1\n",
       "75. 1.81\n",
       "76. -0.38\n",
       "77. 0.25\n",
       "78. 0.91\n",
       "79. 0.71\n",
       "80. -0.51\n",
       "81. -1.02\n",
       "82. -0.93\n",
       "83. 0.83\n",
       "84. -0.81\n",
       "85. -0.42\n",
       "86. -0.15\n",
       "87. 1.51\n",
       "88. -1\n",
       "89. 1.36\n",
       "90. 0.1\n",
       "91. -0.3\n",
       "92. -0.33\n",
       "93. 0.01\n",
       "94. -1.39\n",
       "95. 1.35\n",
       "96. 0.68\n",
       "97. 0.02\n",
       "98. -1.34\n",
       "99. 0.59\n",
       "100. 0.59\n",
       "\n",
       "\n"
      ],
      "text/plain": [
       "  [1] -0.29  1.89 -1.57 -0.41  0.83 -0.39  1.51 -0.26  1.22  1.70  0.72 -0.88\n",
       " [13] -0.53 -0.14  0.37  0.13 -1.30  0.67 -1.07  0.00 -1.03  2.16  1.09  0.63\n",
       " [25]  0.53 -0.13  0.54  1.56 -0.03 -1.75 -0.95  1.47 -0.37 -1.21 -0.30  1.14\n",
       " [37]  1.03  0.53 -0.52  0.92  0.59 -2.80 -1.40  0.68  0.51  0.57 -0.77 -2.40\n",
       " [49] -1.13 -0.41  1.25  0.07  0.60 -0.21 -0.31  0.26  0.01 -0.62 -0.01  0.00\n",
       " [61] -0.57  1.55  0.17  0.71 -0.99  1.89  0.72 -0.65  0.27  0.73  0.27  0.82\n",
       " [73] -0.85 -0.10  1.81 -0.38  0.25  0.91  0.71 -0.51 -1.02 -0.93  0.83 -0.81\n",
       " [85] -0.42 -0.15  1.51 -1.00  1.36  0.10 -0.30 -0.33  0.01 -1.39  1.35  0.68\n",
       " [97]  0.02 -1.34  0.59  0.59"
      ]
     },
     "metadata": {},
     "output_type": "display_data"
    }
   ],
   "source": [
    "norm_sample <- rnorm(1000)\n",
    "round(norm_sample[1:100], 2)"
   ]
  },
  {
   "cell_type": "markdown",
   "metadata": {},
   "source": [
    "Let's check that our histogram looks anything like our PMF."
   ]
  },
  {
   "cell_type": "code",
   "execution_count": 21,
   "metadata": {},
   "outputs": [
    {
     "data": {
      "image/png": "[encoded data removed]",
      "text/plain": [
       "Plot with title “Histogram of norm_sample”"
      ]
     },
     "metadata": {},
     "output_type": "display_data"
    }
   ],
   "source": [
    "hist(norm_sample, breaks=20, xlim=c(-4, 4), col=\"blue\")"
   ]
  },
  {
   "cell_type": "markdown",
   "metadata": {},
   "source": [
    "## 3.2 Exponential Distribution\n",
    "\n",
    "The *exponential distribution* is a continuous distribution that\n",
    "complements the discrete Poisson distribution that we encountered\n",
    "above.  Whereas a Poisson random variable represents a count of\n",
    "events that occur over a fixed unit of time, an exponential\n",
    "random variable represents the amount of time between one such\n",
    "event and the next.\n",
    "\n",
    "The density function for the exponential function is\n",
    "\n",
    "$$\n",
    "f_X(x; \\lambda) = \\lambda e^{-\\lambda x}\n",
    "$$\n",
    "\n",
    "where the expected wait time is $1/\\lambda$  Let's go through\n",
    "the usual motions with $\\lambda = 1/3$.  The exponential function\n",
    "decreases as x gets larger."
   ]
  },
  {
   "cell_type": "code",
   "execution_count": 22,
   "metadata": {},
   "outputs": [
    {
     "data": {
      "text/html": [
       "<ol class=list-inline>\n",
       "\t<li>0.239</li>\n",
       "\t<li>0.171</li>\n",
       "\t<li>0.123</li>\n",
       "\t<li>0.088</li>\n",
       "</ol>\n"
      ],
      "text/latex": [
       "\\begin{enumerate*}\n",
       "\\item 0.239\n",
       "\\item 0.171\n",
       "\\item 0.123\n",
       "\\item 0.088\n",
       "\\end{enumerate*}\n"
      ],
      "text/markdown": [
       "1. 0.239\n",
       "2. 0.171\n",
       "3. 0.123\n",
       "4. 0.088\n",
       "\n",
       "\n"
      ],
      "text/plain": [
       "[1] 0.239 0.171 0.123 0.088"
      ]
     },
     "metadata": {},
     "output_type": "display_data"
    }
   ],
   "source": [
    "x <- dexp(c(1,2,3,4), 1/3)\n",
    "round(x, 3)"
   ]
  },
  {
   "cell_type": "markdown",
   "metadata": {},
   "source": [
    "Since the expected wait time is $1/\\lambda = 3$ units of time,\n",
    "we expect the CDF to cross 50% there."
   ]
  },
  {
   "cell_type": "code",
   "execution_count": 23,
   "metadata": {},
   "outputs": [
    {
     "data": {
      "text/html": [
       "<ol class=list-inline>\n",
       "\t<li>0.28</li>\n",
       "\t<li>0.49</li>\n",
       "\t<li>0.63</li>\n",
       "\t<li>0.74</li>\n",
       "</ol>\n"
      ],
      "text/latex": [
       "\\begin{enumerate*}\n",
       "\\item 0.28\n",
       "\\item 0.49\n",
       "\\item 0.63\n",
       "\\item 0.74\n",
       "\\end{enumerate*}\n"
      ],
      "text/markdown": [
       "1. 0.28\n",
       "2. 0.49\n",
       "3. 0.63\n",
       "4. 0.74\n",
       "\n",
       "\n"
      ],
      "text/plain": [
       "[1] 0.28 0.49 0.63 0.74"
      ]
     },
     "metadata": {},
     "output_type": "display_data"
    }
   ],
   "source": [
    "x <- pexp(seq(1,4), 1/3)\n",
    "round(x, 2)"
   ]
  },
  {
   "cell_type": "markdown",
   "metadata": {},
   "source": [
    "The is the PDF and CDF graphically."
   ]
  },
  {
   "cell_type": "code",
   "execution_count": 35,
   "metadata": {},
   "outputs": [
    {
     "data": {
      "image/png": "[encoded data removed]",
      "text/plain": [
       "Plot with title “Exponential PDF and CDF”"
      ]
     },
     "metadata": {},
     "output_type": "display_data"
    }
   ],
   "source": [
    "x <- seq(0, 12, by=0.02)\n",
    "plot(x, pexp(x, 1/3), col='blue', type='l', lty='solid')\n",
    "lines(x, dexp(x, 1/3), col='red')\n",
    "title(main=\"Exponential PDF and CDF\", ylab=\"\", xlab=\"\")\n",
    "legend('right', c('CDF', 'PDF'), text.col=c('blue', 'red'),\n",
    "       bty='n', y.intersp=2)"
   ]
  },
  {
   "cell_type": "markdown",
   "metadata": {},
   "source": [
    "Once again, we can see the relationship between the \n",
    "CDF $F_X(x; \\lambda)$ and the PDF $f_X(x; \\lambda)$.\n",
    "\n",
    "$$\n",
    "F_X(x; \\lambda) = \\int_0^x f_X(t; \\lambda) dt\n",
    "$$\n",
    "\n",
    "The standard quartiles are given by"
   ]
  },
  {
   "cell_type": "code",
   "execution_count": 25,
   "metadata": {},
   "outputs": [
    {
     "data": {
      "text/html": [
       "<ol class=list-inline>\n",
       "\t<li>0.86</li>\n",
       "\t<li>2.08</li>\n",
       "\t<li>4.16</li>\n",
       "</ol>\n"
      ],
      "text/latex": [
       "\\begin{enumerate*}\n",
       "\\item 0.86\n",
       "\\item 2.08\n",
       "\\item 4.16\n",
       "\\end{enumerate*}\n"
      ],
      "text/markdown": [
       "1. 0.86\n",
       "2. 2.08\n",
       "3. 4.16\n",
       "\n",
       "\n"
      ],
      "text/plain": [
       "[1] 0.86 2.08 4.16"
      ]
     },
     "metadata": {},
     "output_type": "display_data"
    }
   ],
   "source": [
    "x = qexp(c(0.25, 0.5, 0.75), 1/3)\n",
    "round(x, 2)"
   ]
  },
  {
   "cell_type": "markdown",
   "metadata": {},
   "source": [
    "Notice that the median is 2.08.  This is an example the median\n",
    "and the average do not agree, even for a continuous random variable.\n",
    "These values tell us we should expect a wait time of\n",
    "\n",
    "* 0.86 time units or less 25% of the time\n",
    "* 2.08 time units or less 50% of the time\n",
    "* 4.16 time units or less 75% of the time\n",
    "\n",
    "Let's generate some exponential distributed time intervals for\n",
    "a simulated Poisson process.  We'll run an exponential simulation\n",
    "for 1,000 trials with $\\lambda = 1/3$."
   ]
  },
  {
   "cell_type": "code",
   "execution_count": 26,
   "metadata": {},
   "outputs": [
    {
     "data": {
      "text/html": [
       "<ol class=list-inline>\n",
       "\t<li>3.29</li>\n",
       "\t<li>5.96</li>\n",
       "\t<li>6.43</li>\n",
       "\t<li>0.12</li>\n",
       "\t<li>0.28</li>\n",
       "\t<li>0.59</li>\n",
       "\t<li>3.19</li>\n",
       "\t<li>1.39</li>\n",
       "\t<li>4.28</li>\n",
       "\t<li>2.31</li>\n",
       "\t<li>0.33</li>\n",
       "\t<li>5.53</li>\n",
       "\t<li>12.11</li>\n",
       "\t<li>0.39</li>\n",
       "\t<li>0.15</li>\n",
       "\t<li>3.25</li>\n",
       "\t<li>0.57</li>\n",
       "\t<li>1.25</li>\n",
       "\t<li>1.01</li>\n",
       "\t<li>1.14</li>\n",
       "\t<li>3.92</li>\n",
       "\t<li>1.89</li>\n",
       "\t<li>0.64</li>\n",
       "\t<li>1.58</li>\n",
       "\t<li>1.3</li>\n",
       "\t<li>0.84</li>\n",
       "\t<li>0.16</li>\n",
       "\t<li>0.2</li>\n",
       "\t<li>1.53</li>\n",
       "\t<li>10.31</li>\n",
       "\t<li>2.68</li>\n",
       "\t<li>3.39</li>\n",
       "\t<li>4.8</li>\n",
       "\t<li>4.69</li>\n",
       "\t<li>0.22</li>\n",
       "\t<li>1.94</li>\n",
       "\t<li>0.42</li>\n",
       "\t<li>3.47</li>\n",
       "\t<li>6.07</li>\n",
       "\t<li>3.41</li>\n",
       "\t<li>9</li>\n",
       "\t<li>1.81</li>\n",
       "\t<li>0.73</li>\n",
       "\t<li>7.17</li>\n",
       "\t<li>5.01</li>\n",
       "\t<li>1.11</li>\n",
       "\t<li>4.44</li>\n",
       "\t<li>5.61</li>\n",
       "\t<li>1.14</li>\n",
       "\t<li>0.12</li>\n",
       "\t<li>3.1</li>\n",
       "\t<li>9.33</li>\n",
       "\t<li>2.03</li>\n",
       "\t<li>2.12</li>\n",
       "\t<li>2.87</li>\n",
       "\t<li>8.95</li>\n",
       "\t<li>2.7</li>\n",
       "\t<li>9.33</li>\n",
       "\t<li>0.15</li>\n",
       "\t<li>4.42</li>\n",
       "\t<li>5.28</li>\n",
       "\t<li>2.14</li>\n",
       "\t<li>0.84</li>\n",
       "\t<li>7.66</li>\n",
       "\t<li>1.64</li>\n",
       "\t<li>2.93</li>\n",
       "\t<li>0.54</li>\n",
       "\t<li>0.27</li>\n",
       "\t<li>6.05</li>\n",
       "\t<li>3.49</li>\n",
       "\t<li>2.73</li>\n",
       "\t<li>1.85</li>\n",
       "\t<li>2.13</li>\n",
       "\t<li>7.56</li>\n",
       "\t<li>6.92</li>\n",
       "\t<li>1.35</li>\n",
       "\t<li>3.42</li>\n",
       "\t<li>0.07</li>\n",
       "\t<li>1.02</li>\n",
       "\t<li>0.09</li>\n",
       "\t<li>0.67</li>\n",
       "\t<li>5.5</li>\n",
       "\t<li>6.15</li>\n",
       "\t<li>1.42</li>\n",
       "\t<li>1.3</li>\n",
       "\t<li>7.36</li>\n",
       "\t<li>3.09</li>\n",
       "\t<li>0.66</li>\n",
       "\t<li>11.6</li>\n",
       "\t<li>2.94</li>\n",
       "\t<li>6.78</li>\n",
       "\t<li>5.21</li>\n",
       "\t<li>0.19</li>\n",
       "\t<li>13.71</li>\n",
       "\t<li>3.07</li>\n",
       "\t<li>14.47</li>\n",
       "\t<li>1.53</li>\n",
       "\t<li>1.62</li>\n",
       "\t<li>4.99</li>\n",
       "\t<li>0.13</li>\n",
       "</ol>\n"
      ],
      "text/latex": [
       "\\begin{enumerate*}\n",
       "\\item 3.29\n",
       "\\item 5.96\n",
       "\\item 6.43\n",
       "\\item 0.12\n",
       "\\item 0.28\n",
       "\\item 0.59\n",
       "\\item 3.19\n",
       "\\item 1.39\n",
       "\\item 4.28\n",
       "\\item 2.31\n",
       "\\item 0.33\n",
       "\\item 5.53\n",
       "\\item 12.11\n",
       "\\item 0.39\n",
       "\\item 0.15\n",
       "\\item 3.25\n",
       "\\item 0.57\n",
       "\\item 1.25\n",
       "\\item 1.01\n",
       "\\item 1.14\n",
       "\\item 3.92\n",
       "\\item 1.89\n",
       "\\item 0.64\n",
       "\\item 1.58\n",
       "\\item 1.3\n",
       "\\item 0.84\n",
       "\\item 0.16\n",
       "\\item 0.2\n",
       "\\item 1.53\n",
       "\\item 10.31\n",
       "\\item 2.68\n",
       "\\item 3.39\n",
       "\\item 4.8\n",
       "\\item 4.69\n",
       "\\item 0.22\n",
       "\\item 1.94\n",
       "\\item 0.42\n",
       "\\item 3.47\n",
       "\\item 6.07\n",
       "\\item 3.41\n",
       "\\item 9\n",
       "\\item 1.81\n",
       "\\item 0.73\n",
       "\\item 7.17\n",
       "\\item 5.01\n",
       "\\item 1.11\n",
       "\\item 4.44\n",
       "\\item 5.61\n",
       "\\item 1.14\n",
       "\\item 0.12\n",
       "\\item 3.1\n",
       "\\item 9.33\n",
       "\\item 2.03\n",
       "\\item 2.12\n",
       "\\item 2.87\n",
       "\\item 8.95\n",
       "\\item 2.7\n",
       "\\item 9.33\n",
       "\\item 0.15\n",
       "\\item 4.42\n",
       "\\item 5.28\n",
       "\\item 2.14\n",
       "\\item 0.84\n",
       "\\item 7.66\n",
       "\\item 1.64\n",
       "\\item 2.93\n",
       "\\item 0.54\n",
       "\\item 0.27\n",
       "\\item 6.05\n",
       "\\item 3.49\n",
       "\\item 2.73\n",
       "\\item 1.85\n",
       "\\item 2.13\n",
       "\\item 7.56\n",
       "\\item 6.92\n",
       "\\item 1.35\n",
       "\\item 3.42\n",
       "\\item 0.07\n",
       "\\item 1.02\n",
       "\\item 0.09\n",
       "\\item 0.67\n",
       "\\item 5.5\n",
       "\\item 6.15\n",
       "\\item 1.42\n",
       "\\item 1.3\n",
       "\\item 7.36\n",
       "\\item 3.09\n",
       "\\item 0.66\n",
       "\\item 11.6\n",
       "\\item 2.94\n",
       "\\item 6.78\n",
       "\\item 5.21\n",
       "\\item 0.19\n",
       "\\item 13.71\n",
       "\\item 3.07\n",
       "\\item 14.47\n",
       "\\item 1.53\n",
       "\\item 1.62\n",
       "\\item 4.99\n",
       "\\item 0.13\n",
       "\\end{enumerate*}\n"
      ],
      "text/markdown": [
       "1. 3.29\n",
       "2. 5.96\n",
       "3. 6.43\n",
       "4. 0.12\n",
       "5. 0.28\n",
       "6. 0.59\n",
       "7. 3.19\n",
       "8. 1.39\n",
       "9. 4.28\n",
       "10. 2.31\n",
       "11. 0.33\n",
       "12. 5.53\n",
       "13. 12.11\n",
       "14. 0.39\n",
       "15. 0.15\n",
       "16. 3.25\n",
       "17. 0.57\n",
       "18. 1.25\n",
       "19. 1.01\n",
       "20. 1.14\n",
       "21. 3.92\n",
       "22. 1.89\n",
       "23. 0.64\n",
       "24. 1.58\n",
       "25. 1.3\n",
       "26. 0.84\n",
       "27. 0.16\n",
       "28. 0.2\n",
       "29. 1.53\n",
       "30. 10.31\n",
       "31. 2.68\n",
       "32. 3.39\n",
       "33. 4.8\n",
       "34. 4.69\n",
       "35. 0.22\n",
       "36. 1.94\n",
       "37. 0.42\n",
       "38. 3.47\n",
       "39. 6.07\n",
       "40. 3.41\n",
       "41. 9\n",
       "42. 1.81\n",
       "43. 0.73\n",
       "44. 7.17\n",
       "45. 5.01\n",
       "46. 1.11\n",
       "47. 4.44\n",
       "48. 5.61\n",
       "49. 1.14\n",
       "50. 0.12\n",
       "51. 3.1\n",
       "52. 9.33\n",
       "53. 2.03\n",
       "54. 2.12\n",
       "55. 2.87\n",
       "56. 8.95\n",
       "57. 2.7\n",
       "58. 9.33\n",
       "59. 0.15\n",
       "60. 4.42\n",
       "61. 5.28\n",
       "62. 2.14\n",
       "63. 0.84\n",
       "64. 7.66\n",
       "65. 1.64\n",
       "66. 2.93\n",
       "67. 0.54\n",
       "68. 0.27\n",
       "69. 6.05\n",
       "70. 3.49\n",
       "71. 2.73\n",
       "72. 1.85\n",
       "73. 2.13\n",
       "74. 7.56\n",
       "75. 6.92\n",
       "76. 1.35\n",
       "77. 3.42\n",
       "78. 0.07\n",
       "79. 1.02\n",
       "80. 0.09\n",
       "81. 0.67\n",
       "82. 5.5\n",
       "83. 6.15\n",
       "84. 1.42\n",
       "85. 1.3\n",
       "86. 7.36\n",
       "87. 3.09\n",
       "88. 0.66\n",
       "89. 11.6\n",
       "90. 2.94\n",
       "91. 6.78\n",
       "92. 5.21\n",
       "93. 0.19\n",
       "94. 13.71\n",
       "95. 3.07\n",
       "96. 14.47\n",
       "97. 1.53\n",
       "98. 1.62\n",
       "99. 4.99\n",
       "100. 0.13\n",
       "\n",
       "\n"
      ],
      "text/plain": [
       "  [1]  3.29  5.96  6.43  0.12  0.28  0.59  3.19  1.39  4.28  2.31  0.33  5.53\n",
       " [13] 12.11  0.39  0.15  3.25  0.57  1.25  1.01  1.14  3.92  1.89  0.64  1.58\n",
       " [25]  1.30  0.84  0.16  0.20  1.53 10.31  2.68  3.39  4.80  4.69  0.22  1.94\n",
       " [37]  0.42  3.47  6.07  3.41  9.00  1.81  0.73  7.17  5.01  1.11  4.44  5.61\n",
       " [49]  1.14  0.12  3.10  9.33  2.03  2.12  2.87  8.95  2.70  9.33  0.15  4.42\n",
       " [61]  5.28  2.14  0.84  7.66  1.64  2.93  0.54  0.27  6.05  3.49  2.73  1.85\n",
       " [73]  2.13  7.56  6.92  1.35  3.42  0.07  1.02  0.09  0.67  5.50  6.15  1.42\n",
       " [85]  1.30  7.36  3.09  0.66 11.60  2.94  6.78  5.21  0.19 13.71  3.07 14.47\n",
       " [97]  1.53  1.62  4.99  0.13"
      ]
     },
     "metadata": {},
     "output_type": "display_data"
    }
   ],
   "source": [
    "exp_sample <- rexp(1000, 1/3)\n",
    "round(exp_sample[1:100], 2)"
   ]
  },
  {
   "cell_type": "markdown",
   "metadata": {},
   "source": [
    "Let's check that our histogram looks anything like our PMF."
   ]
  },
  {
   "cell_type": "code",
   "execution_count": 27,
   "metadata": {},
   "outputs": [
    {
     "data": {
      "image/png": "[encoded data removed]",
      "text/plain": [
       "Plot with title “Histogram of exp_sample”"
      ]
     },
     "metadata": {},
     "output_type": "display_data"
    }
   ],
   "source": [
    "hist(exp_sample, breaks=24, xlim=c(0, 12), col=\"blue\")"
   ]
  },
  {
   "cell_type": "markdown",
   "metadata": {},
   "source": [
    "## Gamma Distribution\n",
    "\n",
    "A Gamma random variable is often interpreted as a sum of $r$ independent\n",
    "exponential random variables with the same parameter $\\lambda$.  The\n",
    "density function is\n",
    "\n",
    "$$\n",
    "f_X(x; \\lambda, r) = \\frac{\\lambda}{\\Gamma(r)}(\\lambda x)^{r-1} e^{-\\lambda x}\n",
    "$$\n",
    "\n",
    "So we have $r$ Poisson processes with an expected wait time of $1/\\lambda$.\n",
    "Let's continue using our Poisson process from before with an expected wait\n",
    "time of 3 time units; but this time let's assume we are waiting for 5 of\n",
    "them (one after another).  So in this particular case, $\\lambda = 1/3$ and\n",
    "$r = 5$.\n",
    "\n",
    "The R functions related to the Gamma random variable take two parameters:\n",
    "\n",
    "* `shape` - this corresponds to $r$ in the density function above\n",
    "* `scale` - this corresponds to $\\lambda$ in the density function above\n",
    "\n",
    "Let's check a few density function values."
   ]
  },
  {
   "cell_type": "code",
   "execution_count": 28,
   "metadata": {},
   "outputs": [
    {
     "data": {
      "text/html": [
       "<ol class=list-inline>\n",
       "\t<li>0.02</li>\n",
       "\t<li>0.06</li>\n",
       "\t<li>0.06</li>\n",
       "\t<li>0.03</li>\n",
       "\t<li>0.02</li>\n",
       "</ol>\n"
      ],
      "text/latex": [
       "\\begin{enumerate*}\n",
       "\\item 0.02\n",
       "\\item 0.06\n",
       "\\item 0.06\n",
       "\\item 0.03\n",
       "\\item 0.02\n",
       "\\end{enumerate*}\n"
      ],
      "text/markdown": [
       "1. 0.02\n",
       "2. 0.06\n",
       "3. 0.06\n",
       "4. 0.03\n",
       "5. 0.02\n",
       "\n",
       "\n"
      ],
      "text/plain": [
       "[1] 0.02 0.06 0.06 0.03 0.02"
      ]
     },
     "metadata": {},
     "output_type": "display_data"
    }
   ],
   "source": [
    "x <- dgamma(c(5, 10, 15, 20, 25), shape=5, scale=3)\n",
    "round(x, 2)"
   ]
  },
  {
   "cell_type": "markdown",
   "metadata": {},
   "source": [
    "The cumulative distribution function gives a better feel for the distribution."
   ]
  },
  {
   "cell_type": "code",
   "execution_count": 29,
   "metadata": {},
   "outputs": [
    {
     "data": {
      "text/html": [
       "<ol class=list-inline>\n",
       "\t<li>0.03</li>\n",
       "\t<li>0.24</li>\n",
       "\t<li>0.56</li>\n",
       "\t<li>0.79</li>\n",
       "\t<li>0.92</li>\n",
       "</ol>\n"
      ],
      "text/latex": [
       "\\begin{enumerate*}\n",
       "\\item 0.03\n",
       "\\item 0.24\n",
       "\\item 0.56\n",
       "\\item 0.79\n",
       "\\item 0.92\n",
       "\\end{enumerate*}\n"
      ],
      "text/markdown": [
       "1. 0.03\n",
       "2. 0.24\n",
       "3. 0.56\n",
       "4. 0.79\n",
       "5. 0.92\n",
       "\n",
       "\n"
      ],
      "text/plain": [
       "[1] 0.03 0.24 0.56 0.79 0.92"
      ]
     },
     "metadata": {},
     "output_type": "display_data"
    }
   ],
   "source": [
    "x <- pgamma(c(5, 10, 15, 20, 25), shape=5, scale=3)\n",
    "round(x, 2)"
   ]
  },
  {
   "cell_type": "markdown",
   "metadata": {},
   "source": [
    "This is the PDF and CDF graphically."
   ]
  },
  {
   "cell_type": "code",
   "execution_count": 30,
   "metadata": {},
   "outputs": [
    {
     "data": {
      "image/png": "[encoded data removed]",
      "text/plain": [
       "Plot with title “Gamma PDF and CDF”"
      ]
     },
     "metadata": {},
     "output_type": "display_data"
    }
   ],
   "source": [
    "x <- seq(0, 50, by=0.02)\n",
    "plot(x,  pgamma(x, shape=5, scale=3), col='blue', type='l', lty='solid')\n",
    "lines(x, dgamma(x, shape=5, scale=3) * 10, col='red')\n",
    "title(main=\"Gamma PDF and CDF\", ylab=\" \", xlab=\" \")"
   ]
  },
  {
   "cell_type": "markdown",
   "metadata": {},
   "source": [
    "The PDF was multiplied by 10 to emphasize its shape.\n",
    "The quartiles are given by "
   ]
  },
  {
   "cell_type": "code",
   "execution_count": 31,
   "metadata": {},
   "outputs": [
    {
     "data": {
      "text/html": [
       "<ol class=list-inline>\n",
       "\t<li>10.11</li>\n",
       "\t<li>14.01</li>\n",
       "\t<li>18.82</li>\n",
       "</ol>\n"
      ],
      "text/latex": [
       "\\begin{enumerate*}\n",
       "\\item 10.11\n",
       "\\item 14.01\n",
       "\\item 18.82\n",
       "\\end{enumerate*}\n"
      ],
      "text/markdown": [
       "1. 10.11\n",
       "2. 14.01\n",
       "3. 18.82\n",
       "\n",
       "\n"
      ],
      "text/plain": [
       "[1] 10.11 14.01 18.82"
      ]
     },
     "metadata": {},
     "output_type": "display_data"
    }
   ],
   "source": [
    "x <- qgamma(c(0.25, 0.5, 0.75), shape=5, scale=3)\n",
    "round(x, 2)"
   ]
  },
  {
   "cell_type": "markdown",
   "metadata": {},
   "source": [
    "This means that we can expect a trial (which consists of 5 independent Poisson\n",
    "processes, each with expected duration of 3 time units) to take less than\n",
    "\n",
    "* `10.11` time units 25% of the time\n",
    "* `14.01` time units 50% of the time\n",
    "* `18.82` time units 75% of the time\n",
    "\n",
    "Let's simulate 1,000 trials through a random number generator."
   ]
  },
  {
   "cell_type": "code",
   "execution_count": 32,
   "metadata": {},
   "outputs": [
    {
     "data": {
      "text/html": [
       "<ol class=list-inline>\n",
       "\t<li>16.22</li>\n",
       "\t<li>12.93</li>\n",
       "\t<li>6.78</li>\n",
       "\t<li>5.85</li>\n",
       "\t<li>22.77</li>\n",
       "\t<li>16.27</li>\n",
       "\t<li>25.52</li>\n",
       "\t<li>15.56</li>\n",
       "\t<li>7.62</li>\n",
       "\t<li>11.08</li>\n",
       "\t<li>10.34</li>\n",
       "\t<li>17.82</li>\n",
       "\t<li>28.62</li>\n",
       "\t<li>16.53</li>\n",
       "\t<li>8.57</li>\n",
       "\t<li>7.61</li>\n",
       "\t<li>10.73</li>\n",
       "\t<li>8.28</li>\n",
       "\t<li>14.39</li>\n",
       "\t<li>21.09</li>\n",
       "\t<li>7.57</li>\n",
       "\t<li>12.94</li>\n",
       "\t<li>17.83</li>\n",
       "\t<li>11.74</li>\n",
       "\t<li>9.45</li>\n",
       "\t<li>29.05</li>\n",
       "\t<li>6.34</li>\n",
       "\t<li>12.35</li>\n",
       "\t<li>15.08</li>\n",
       "\t<li>20.67</li>\n",
       "\t<li>7.9</li>\n",
       "\t<li>15.04</li>\n",
       "\t<li>18.55</li>\n",
       "\t<li>13.05</li>\n",
       "\t<li>14.38</li>\n",
       "\t<li>19.84</li>\n",
       "\t<li>12.49</li>\n",
       "\t<li>11.76</li>\n",
       "\t<li>21.25</li>\n",
       "\t<li>26.32</li>\n",
       "\t<li>11.07</li>\n",
       "\t<li>18</li>\n",
       "\t<li>7.93</li>\n",
       "\t<li>22.46</li>\n",
       "\t<li>17.78</li>\n",
       "\t<li>20.07</li>\n",
       "\t<li>27.6</li>\n",
       "\t<li>15.18</li>\n",
       "\t<li>7.39</li>\n",
       "\t<li>26.59</li>\n",
       "\t<li>8.82</li>\n",
       "\t<li>8.44</li>\n",
       "\t<li>13.82</li>\n",
       "\t<li>16.98</li>\n",
       "\t<li>11.79</li>\n",
       "\t<li>23.07</li>\n",
       "\t<li>16.78</li>\n",
       "\t<li>16.95</li>\n",
       "\t<li>14.96</li>\n",
       "\t<li>10.25</li>\n",
       "\t<li>16.42</li>\n",
       "\t<li>23.05</li>\n",
       "\t<li>18.05</li>\n",
       "\t<li>7.3</li>\n",
       "\t<li>5.47</li>\n",
       "\t<li>7.33</li>\n",
       "\t<li>8.31</li>\n",
       "\t<li>27.52</li>\n",
       "\t<li>12.95</li>\n",
       "\t<li>19.09</li>\n",
       "\t<li>18.75</li>\n",
       "\t<li>16.5</li>\n",
       "\t<li>15.43</li>\n",
       "\t<li>26.57</li>\n",
       "\t<li>19.1</li>\n",
       "\t<li>9.03</li>\n",
       "\t<li>9.83</li>\n",
       "\t<li>12.02</li>\n",
       "\t<li>20.39</li>\n",
       "\t<li>13.03</li>\n",
       "\t<li>13.07</li>\n",
       "\t<li>17.52</li>\n",
       "\t<li>14.84</li>\n",
       "\t<li>17.08</li>\n",
       "\t<li>13.73</li>\n",
       "\t<li>17.43</li>\n",
       "\t<li>18.85</li>\n",
       "\t<li>11.89</li>\n",
       "\t<li>26.97</li>\n",
       "\t<li>28.55</li>\n",
       "\t<li>11.55</li>\n",
       "\t<li>15.44</li>\n",
       "\t<li>15.9</li>\n",
       "\t<li>30.58</li>\n",
       "\t<li>11.65</li>\n",
       "\t<li>23.45</li>\n",
       "\t<li>12.56</li>\n",
       "\t<li>10.59</li>\n",
       "\t<li>22.86</li>\n",
       "\t<li>8.02</li>\n",
       "</ol>\n"
      ],
      "text/latex": [
       "\\begin{enumerate*}\n",
       "\\item 16.22\n",
       "\\item 12.93\n",
       "\\item 6.78\n",
       "\\item 5.85\n",
       "\\item 22.77\n",
       "\\item 16.27\n",
       "\\item 25.52\n",
       "\\item 15.56\n",
       "\\item 7.62\n",
       "\\item 11.08\n",
       "\\item 10.34\n",
       "\\item 17.82\n",
       "\\item 28.62\n",
       "\\item 16.53\n",
       "\\item 8.57\n",
       "\\item 7.61\n",
       "\\item 10.73\n",
       "\\item 8.28\n",
       "\\item 14.39\n",
       "\\item 21.09\n",
       "\\item 7.57\n",
       "\\item 12.94\n",
       "\\item 17.83\n",
       "\\item 11.74\n",
       "\\item 9.45\n",
       "\\item 29.05\n",
       "\\item 6.34\n",
       "\\item 12.35\n",
       "\\item 15.08\n",
       "\\item 20.67\n",
       "\\item 7.9\n",
       "\\item 15.04\n",
       "\\item 18.55\n",
       "\\item 13.05\n",
       "\\item 14.38\n",
       "\\item 19.84\n",
       "\\item 12.49\n",
       "\\item 11.76\n",
       "\\item 21.25\n",
       "\\item 26.32\n",
       "\\item 11.07\n",
       "\\item 18\n",
       "\\item 7.93\n",
       "\\item 22.46\n",
       "\\item 17.78\n",
       "\\item 20.07\n",
       "\\item 27.6\n",
       "\\item 15.18\n",
       "\\item 7.39\n",
       "\\item 26.59\n",
       "\\item 8.82\n",
       "\\item 8.44\n",
       "\\item 13.82\n",
       "\\item 16.98\n",
       "\\item 11.79\n",
       "\\item 23.07\n",
       "\\item 16.78\n",
       "\\item 16.95\n",
       "\\item 14.96\n",
       "\\item 10.25\n",
       "\\item 16.42\n",
       "\\item 23.05\n",
       "\\item 18.05\n",
       "\\item 7.3\n",
       "\\item 5.47\n",
       "\\item 7.33\n",
       "\\item 8.31\n",
       "\\item 27.52\n",
       "\\item 12.95\n",
       "\\item 19.09\n",
       "\\item 18.75\n",
       "\\item 16.5\n",
       "\\item 15.43\n",
       "\\item 26.57\n",
       "\\item 19.1\n",
       "\\item 9.03\n",
       "\\item 9.83\n",
       "\\item 12.02\n",
       "\\item 20.39\n",
       "\\item 13.03\n",
       "\\item 13.07\n",
       "\\item 17.52\n",
       "\\item 14.84\n",
       "\\item 17.08\n",
       "\\item 13.73\n",
       "\\item 17.43\n",
       "\\item 18.85\n",
       "\\item 11.89\n",
       "\\item 26.97\n",
       "\\item 28.55\n",
       "\\item 11.55\n",
       "\\item 15.44\n",
       "\\item 15.9\n",
       "\\item 30.58\n",
       "\\item 11.65\n",
       "\\item 23.45\n",
       "\\item 12.56\n",
       "\\item 10.59\n",
       "\\item 22.86\n",
       "\\item 8.02\n",
       "\\end{enumerate*}\n"
      ],
      "text/markdown": [
       "1. 16.22\n",
       "2. 12.93\n",
       "3. 6.78\n",
       "4. 5.85\n",
       "5. 22.77\n",
       "6. 16.27\n",
       "7. 25.52\n",
       "8. 15.56\n",
       "9. 7.62\n",
       "10. 11.08\n",
       "11. 10.34\n",
       "12. 17.82\n",
       "13. 28.62\n",
       "14. 16.53\n",
       "15. 8.57\n",
       "16. 7.61\n",
       "17. 10.73\n",
       "18. 8.28\n",
       "19. 14.39\n",
       "20. 21.09\n",
       "21. 7.57\n",
       "22. 12.94\n",
       "23. 17.83\n",
       "24. 11.74\n",
       "25. 9.45\n",
       "26. 29.05\n",
       "27. 6.34\n",
       "28. 12.35\n",
       "29. 15.08\n",
       "30. 20.67\n",
       "31. 7.9\n",
       "32. 15.04\n",
       "33. 18.55\n",
       "34. 13.05\n",
       "35. 14.38\n",
       "36. 19.84\n",
       "37. 12.49\n",
       "38. 11.76\n",
       "39. 21.25\n",
       "40. 26.32\n",
       "41. 11.07\n",
       "42. 18\n",
       "43. 7.93\n",
       "44. 22.46\n",
       "45. 17.78\n",
       "46. 20.07\n",
       "47. 27.6\n",
       "48. 15.18\n",
       "49. 7.39\n",
       "50. 26.59\n",
       "51. 8.82\n",
       "52. 8.44\n",
       "53. 13.82\n",
       "54. 16.98\n",
       "55. 11.79\n",
       "56. 23.07\n",
       "57. 16.78\n",
       "58. 16.95\n",
       "59. 14.96\n",
       "60. 10.25\n",
       "61. 16.42\n",
       "62. 23.05\n",
       "63. 18.05\n",
       "64. 7.3\n",
       "65. 5.47\n",
       "66. 7.33\n",
       "67. 8.31\n",
       "68. 27.52\n",
       "69. 12.95\n",
       "70. 19.09\n",
       "71. 18.75\n",
       "72. 16.5\n",
       "73. 15.43\n",
       "74. 26.57\n",
       "75. 19.1\n",
       "76. 9.03\n",
       "77. 9.83\n",
       "78. 12.02\n",
       "79. 20.39\n",
       "80. 13.03\n",
       "81. 13.07\n",
       "82. 17.52\n",
       "83. 14.84\n",
       "84. 17.08\n",
       "85. 13.73\n",
       "86. 17.43\n",
       "87. 18.85\n",
       "88. 11.89\n",
       "89. 26.97\n",
       "90. 28.55\n",
       "91. 11.55\n",
       "92. 15.44\n",
       "93. 15.9\n",
       "94. 30.58\n",
       "95. 11.65\n",
       "96. 23.45\n",
       "97. 12.56\n",
       "98. 10.59\n",
       "99. 22.86\n",
       "100. 8.02\n",
       "\n",
       "\n"
      ],
      "text/plain": [
       "  [1] 16.22 12.93  6.78  5.85 22.77 16.27 25.52 15.56  7.62 11.08 10.34 17.82\n",
       " [13] 28.62 16.53  8.57  7.61 10.73  8.28 14.39 21.09  7.57 12.94 17.83 11.74\n",
       " [25]  9.45 29.05  6.34 12.35 15.08 20.67  7.90 15.04 18.55 13.05 14.38 19.84\n",
       " [37] 12.49 11.76 21.25 26.32 11.07 18.00  7.93 22.46 17.78 20.07 27.60 15.18\n",
       " [49]  7.39 26.59  8.82  8.44 13.82 16.98 11.79 23.07 16.78 16.95 14.96 10.25\n",
       " [61] 16.42 23.05 18.05  7.30  5.47  7.33  8.31 27.52 12.95 19.09 18.75 16.50\n",
       " [73] 15.43 26.57 19.10  9.03  9.83 12.02 20.39 13.03 13.07 17.52 14.84 17.08\n",
       " [85] 13.73 17.43 18.85 11.89 26.97 28.55 11.55 15.44 15.90 30.58 11.65 23.45\n",
       " [97] 12.56 10.59 22.86  8.02"
      ]
     },
     "metadata": {},
     "output_type": "display_data"
    }
   ],
   "source": [
    "g35_sample <- rgamma(1000, shape=5, scale=3)\n",
    "round(g35_sample[1:100], 2)"
   ]
  },
  {
   "cell_type": "markdown",
   "metadata": {},
   "source": [
    "Now let's check the histogram."
   ]
  },
  {
   "cell_type": "code",
   "execution_count": 33,
   "metadata": {},
   "outputs": [
    {
     "data": {
      "image/png": "[encoded data removed]",
      "text/plain": [
       "Plot with title “Histogram of g35_sample”"
      ]
     },
     "metadata": {},
     "output_type": "display_data"
    }
   ],
   "source": [
    "hist(g35_sample, breaks=25, xlim=c(0, 50), col=\"blue\")"
   ]
  }
 ],
 "metadata": {
  "kernelspec": {
   "display_name": "R",
   "language": "R",
   "name": "ir"
  },
  "language_info": {
   "codemirror_mode": "r",
   "file_extension": ".r",
   "mimetype": "text/x-r-source",
   "name": "R",
   "pygments_lexer": "r",
   "version": "3.3.2"
  }
 },
 "nbformat": 4,
 "nbformat_minor": 1
}
