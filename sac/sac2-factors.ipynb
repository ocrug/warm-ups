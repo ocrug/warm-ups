{
 "cells": [
  {
   "cell_type": "markdown",
   "metadata": {},
   "source": [
    "# Creating Factor Variables\n",
    "\n",
    "In the previous warm-up we explored how factor variables could\n",
    "be used to split a dataset.  Such splits are usually performed in\n",
    "order to apply a calculation to each split and perhaps even\n",
    "combine the results in a later step.  This scenario is so\n",
    "common that it has its own name: **split-apply-combine**.\n",
    "\n",
    "In the last warm-up we used factor variables that came with the\n",
    "original dataset for the split.  It's great when such factors\n",
    "are readily available.  But sometimes we need to split according\n",
    "to criteria that are not available with existing factor variables.\n",
    "In this case we often create one or more factor variables with\n",
    "values that capture the desired criteria and then perform the\n",
    "split with these new factor variables.  Here are some of the\n",
    "ways we do it.\n",
    "\n",
    "* [Regular Patterns](#regular-patterns)\n",
    "* [Level Interactions](#level-interactions)\n",
    "* [Column Computation](#column-computation)\n",
    "* [Cut Function](#cut-function)\n",
    "\n",
    "\n",
    "## <a id=\"regular-patterns\">Regular Patterns</a>\n",
    "\n",
    "Sometimes the data in your dataset is structured in regular\n",
    "patterns.  A useful function for generating factor variables\n",
    "in regular patterns is **gl** (for Generate Levels).  A few\n",
    "examples will help."
   ]
  },
  {
   "cell_type": "code",
   "execution_count": 1,
   "metadata": {},
   "outputs": [
    {
     "data": {
      "text/html": [
       "<ol class=list-inline>\n",
       "\t<li>this</li>\n",
       "\t<li>this</li>\n",
       "\t<li>this</li>\n",
       "\t<li>this</li>\n",
       "\t<li>that</li>\n",
       "\t<li>that</li>\n",
       "\t<li>that</li>\n",
       "\t<li>that</li>\n",
       "</ol>\n"
      ],
      "text/latex": [
       "\\begin{enumerate*}\n",
       "\\item this\n",
       "\\item this\n",
       "\\item this\n",
       "\\item this\n",
       "\\item that\n",
       "\\item that\n",
       "\\item that\n",
       "\\item that\n",
       "\\end{enumerate*}\n"
      ],
      "text/markdown": [
       "1. this\n",
       "2. this\n",
       "3. this\n",
       "4. this\n",
       "5. that\n",
       "6. that\n",
       "7. that\n",
       "8. that\n",
       "\n",
       "\n"
      ],
      "text/plain": [
       "[1] this this this this that that that that\n",
       "Levels: this that"
      ]
     },
     "metadata": {},
     "output_type": "display_data"
    }
   ],
   "source": [
    "gl(2, 4, labels=c('this', 'that'))"
   ]
  },
  {
   "cell_type": "code",
   "execution_count": 2,
   "metadata": {},
   "outputs": [
    {
     "data": {
      "text/html": [
       "<ol class=list-inline>\n",
       "\t<li>this</li>\n",
       "\t<li>that</li>\n",
       "\t<li>this</li>\n",
       "\t<li>that</li>\n",
       "\t<li>this</li>\n",
       "\t<li>that</li>\n",
       "\t<li>this</li>\n",
       "\t<li>that</li>\n",
       "</ol>\n"
      ],
      "text/latex": [
       "\\begin{enumerate*}\n",
       "\\item this\n",
       "\\item that\n",
       "\\item this\n",
       "\\item that\n",
       "\\item this\n",
       "\\item that\n",
       "\\item this\n",
       "\\item that\n",
       "\\end{enumerate*}\n"
      ],
      "text/markdown": [
       "1. this\n",
       "2. that\n",
       "3. this\n",
       "4. that\n",
       "5. this\n",
       "6. that\n",
       "7. this\n",
       "8. that\n",
       "\n",
       "\n"
      ],
      "text/plain": [
       "[1] this that this that this that this that\n",
       "Levels: this that"
      ]
     },
     "metadata": {},
     "output_type": "display_data"
    }
   ],
   "source": [
    "gl(2, 1, 8, labels=c('this', 'that'))"
   ]
  },
  {
   "cell_type": "markdown",
   "metadata": {},
   "source": [
    "The parameters to `gl` have the following description.\n",
    "\n",
    "* `n` - the number of levels to generate,\n",
    "* `k` - the number of consecutive times each level is repeated.\n",
    "* `l` - (optional) the total length, `n * k` by default\n",
    "* `labels` - (optional) names assigned to the factor values, defaults to integers\n",
    "\n",
    "We can see from the outputs above that the result is a regular\n",
    "pattern of two constants; so the first parameter is `2` in both\n",
    "cases.  The difference is in the number of times each constant\n",
    "is repeated.  In the first case, each constant is repeated `4`\n",
    "times.  This result in groups of four adjacent elements.\n",
    "\n",
    "The second example alternates every element; so the second\n",
    "parameter is `1`.  The default length of such a pattern is\n",
    "`n * k = 2 * 1 = 2`."
   ]
  },
  {
   "cell_type": "code",
   "execution_count": 4,
   "metadata": {},
   "outputs": [
    {
     "data": {
      "text/html": [
       "<ol class=list-inline>\n",
       "\t<li>this</li>\n",
       "\t<li>that</li>\n",
       "</ol>\n"
      ],
      "text/latex": [
       "\\begin{enumerate*}\n",
       "\\item this\n",
       "\\item that\n",
       "\\end{enumerate*}\n"
      ],
      "text/markdown": [
       "1. this\n",
       "2. that\n",
       "\n",
       "\n"
      ],
      "text/plain": [
       "[1] this that\n",
       "Levels: this that"
      ]
     },
     "metadata": {},
     "output_type": "display_data"
    }
   ],
   "source": [
    "gl(2, 1, labels=c('this', 'that'))"
   ]
  },
  {
   "cell_type": "markdown",
   "metadata": {},
   "source": [
    "In order to get eight elements like in the first example, we need\n",
    "to specify the optional third parameter as `8`.\n",
    "\n",
    "\n",
    "## <a id=\"level-interactions\">Level Interactions</a>\n",
    "\n",
    "We can create a factor from two existing factors through their\n",
    "**interaction** - that is, through the cross product of their\n",
    "possible values."
   ]
  },
  {
   "cell_type": "code",
   "execution_count": 5,
   "metadata": {},
   "outputs": [
    {
     "data": {
      "text/html": [
       "<ol class=list-inline>\n",
       "\t<li>this</li>\n",
       "\t<li>this</li>\n",
       "\t<li>that</li>\n",
       "\t<li>that</li>\n",
       "</ol>\n"
      ],
      "text/latex": [
       "\\begin{enumerate*}\n",
       "\\item this\n",
       "\\item this\n",
       "\\item that\n",
       "\\item that\n",
       "\\end{enumerate*}\n"
      ],
      "text/markdown": [
       "1. this\n",
       "2. this\n",
       "3. that\n",
       "4. that\n",
       "\n",
       "\n"
      ],
      "text/plain": [
       "[1] this this that that\n",
       "Levels: this that"
      ]
     },
     "metadata": {},
     "output_type": "display_data"
    },
    {
     "data": {
      "text/html": [
       "<ol class=list-inline>\n",
       "\t<li>one</li>\n",
       "\t<li>other</li>\n",
       "</ol>\n"
      ],
      "text/latex": [
       "\\begin{enumerate*}\n",
       "\\item one\n",
       "\\item other\n",
       "\\end{enumerate*}\n"
      ],
      "text/markdown": [
       "1. one\n",
       "2. other\n",
       "\n",
       "\n"
      ],
      "text/plain": [
       "[1] one   other\n",
       "Levels: one other"
      ]
     },
     "metadata": {},
     "output_type": "display_data"
    },
    {
     "data": {
      "text/html": [
       "<ol class=list-inline>\n",
       "\t<li>this.one</li>\n",
       "\t<li>this.other</li>\n",
       "\t<li>that.one</li>\n",
       "\t<li>that.other</li>\n",
       "</ol>\n"
      ],
      "text/latex": [
       "\\begin{enumerate*}\n",
       "\\item this.one\n",
       "\\item this.other\n",
       "\\item that.one\n",
       "\\item that.other\n",
       "\\end{enumerate*}\n"
      ],
      "text/markdown": [
       "1. this.one\n",
       "2. this.other\n",
       "3. that.one\n",
       "4. that.other\n",
       "\n",
       "\n"
      ],
      "text/plain": [
       "[1] this.one   this.other that.one   that.other\n",
       "Levels: this.one that.one this.other that.other"
      ]
     },
     "metadata": {},
     "output_type": "display_data"
    }
   ],
   "source": [
    "f1 <- gl(2, 2, labels=c('this', 'that'))\n",
    "f1\n",
    "f2 <- gl(2, 1, labels=c('one', 'other'))\n",
    "f2\n",
    "interaction(f1, f2)"
   ]
  },
  {
   "cell_type": "markdown",
   "metadata": {},
   "source": [
    "Note that `f2` is only length `2`; `f1` is length `4`.\n",
    "Two factors must be the same length in order to interact them.\n",
    "Since the length of `f1` is a multiple of the length of `f2`,\n",
    "*recycling* was used to extend `f2` for the interaction.\n",
    "\n",
    "\n",
    "## <a id=\"column-computation\">Column Computation</a>\n",
    "\n",
    "Another common way to create a factor variable is to us other\n",
    "non-factor columns in a data frame.  In the following example,\n",
    "we create a data frame consisting of days of the month for\n",
    "August, 2017."
   ]
  },
  {
   "cell_type": "code",
   "execution_count": 11,
   "metadata": {},
   "outputs": [
    {
     "data": {
      "text/html": [
       "<table>\n",
       "<thead><tr><th scope=col>day</th></tr></thead>\n",
       "<tbody>\n",
       "\t<tr><td>1</td></tr>\n",
       "\t<tr><td>2</td></tr>\n",
       "\t<tr><td>3</td></tr>\n",
       "\t<tr><td>4</td></tr>\n",
       "\t<tr><td>5</td></tr>\n",
       "\t<tr><td>6</td></tr>\n",
       "</tbody>\n",
       "</table>\n"
      ],
      "text/latex": [
       "\\begin{tabular}{r|l}\n",
       " day\\\\\n",
       "\\hline\n",
       "\t 1\\\\\n",
       "\t 2\\\\\n",
       "\t 3\\\\\n",
       "\t 4\\\\\n",
       "\t 5\\\\\n",
       "\t 6\\\\\n",
       "\\end{tabular}\n"
      ],
      "text/markdown": [
       "\n",
       "day | \n",
       "|---|---|---|---|---|---|\n",
       "| 1 | \n",
       "| 2 | \n",
       "| 3 | \n",
       "| 4 | \n",
       "| 5 | \n",
       "| 6 | \n",
       "\n",
       "\n"
      ],
      "text/plain": [
       "  day\n",
       "1 1  \n",
       "2 2  \n",
       "3 3  \n",
       "4 4  \n",
       "5 5  \n",
       "6 6  "
      ]
     },
     "metadata": {},
     "output_type": "display_data"
    }
   ],
   "source": [
    "aug2017 <- data.frame(day=1:31)\n",
    "head(aug2017)"
   ]
  },
  {
   "cell_type": "markdown",
   "metadata": {},
   "source": [
    "Now create a factor variable labeled by the days of the week.\n",
    "Make sure the days of the week correctly correspond to the\n",
    "day of the month."
   ]
  },
  {
   "cell_type": "code",
   "execution_count": 12,
   "metadata": {},
   "outputs": [
    {
     "data": {
      "text/html": [
       "<ol class=list-inline>\n",
       "\t<li>1</li>\n",
       "\t<li>2</li>\n",
       "\t<li>3</li>\n",
       "\t<li>4</li>\n",
       "\t<li>5</li>\n",
       "\t<li>6</li>\n",
       "\t<li>0</li>\n",
       "\t<li>1</li>\n",
       "\t<li>2</li>\n",
       "\t<li>3</li>\n",
       "\t<li>4</li>\n",
       "\t<li>5</li>\n",
       "\t<li>6</li>\n",
       "\t<li>0</li>\n",
       "\t<li>1</li>\n",
       "\t<li>2</li>\n",
       "\t<li>3</li>\n",
       "\t<li>4</li>\n",
       "\t<li>5</li>\n",
       "\t<li>6</li>\n",
       "\t<li>0</li>\n",
       "\t<li>1</li>\n",
       "\t<li>2</li>\n",
       "\t<li>3</li>\n",
       "\t<li>4</li>\n",
       "\t<li>5</li>\n",
       "\t<li>6</li>\n",
       "\t<li>0</li>\n",
       "\t<li>1</li>\n",
       "\t<li>2</li>\n",
       "\t<li>3</li>\n",
       "</ol>\n"
      ],
      "text/latex": [
       "\\begin{enumerate*}\n",
       "\\item 1\n",
       "\\item 2\n",
       "\\item 3\n",
       "\\item 4\n",
       "\\item 5\n",
       "\\item 6\n",
       "\\item 0\n",
       "\\item 1\n",
       "\\item 2\n",
       "\\item 3\n",
       "\\item 4\n",
       "\\item 5\n",
       "\\item 6\n",
       "\\item 0\n",
       "\\item 1\n",
       "\\item 2\n",
       "\\item 3\n",
       "\\item 4\n",
       "\\item 5\n",
       "\\item 6\n",
       "\\item 0\n",
       "\\item 1\n",
       "\\item 2\n",
       "\\item 3\n",
       "\\item 4\n",
       "\\item 5\n",
       "\\item 6\n",
       "\\item 0\n",
       "\\item 1\n",
       "\\item 2\n",
       "\\item 3\n",
       "\\end{enumerate*}\n"
      ],
      "text/markdown": [
       "1. 1\n",
       "2. 2\n",
       "3. 3\n",
       "4. 4\n",
       "5. 5\n",
       "6. 6\n",
       "7. 0\n",
       "8. 1\n",
       "9. 2\n",
       "10. 3\n",
       "11. 4\n",
       "12. 5\n",
       "13. 6\n",
       "14. 0\n",
       "15. 1\n",
       "16. 2\n",
       "17. 3\n",
       "18. 4\n",
       "19. 5\n",
       "20. 6\n",
       "21. 0\n",
       "22. 1\n",
       "23. 2\n",
       "24. 3\n",
       "25. 4\n",
       "26. 5\n",
       "27. 6\n",
       "28. 0\n",
       "29. 1\n",
       "30. 2\n",
       "31. 3\n",
       "\n",
       "\n"
      ],
      "text/plain": [
       " [1] 1 2 3 4 5 6 0 1 2 3 4 5 6 0 1 2 3 4 5 6 0 1 2 3 4 5 6 0 1 2 3\n",
       "Levels: 0 1 2 3 4 5 6"
      ]
     },
     "metadata": {},
     "output_type": "display_data"
    }
   ],
   "source": [
    "dow <- as.factor(aug2017$day %% 7)\n",
    "dow"
   ]
  },
  {
   "cell_type": "markdown",
   "metadata": {},
   "source": [
    "Now assign these labels accordign to the day of the week.\n",
    "For example, in August 2017, this would be"
   ]
  },
  {
   "cell_type": "code",
   "execution_count": 13,
   "metadata": {},
   "outputs": [
    {
     "data": {
      "text/html": [
       "<ol class=list-inline>\n",
       "\t<li>wed</li>\n",
       "\t<li>thu</li>\n",
       "\t<li>fri</li>\n",
       "\t<li>sat</li>\n",
       "\t<li>sun</li>\n",
       "\t<li>mon</li>\n",
       "\t<li>tue</li>\n",
       "\t<li>wed</li>\n",
       "\t<li>thu</li>\n",
       "\t<li>fri</li>\n",
       "\t<li>sat</li>\n",
       "\t<li>sun</li>\n",
       "\t<li>mon</li>\n",
       "\t<li>tue</li>\n",
       "\t<li>wed</li>\n",
       "\t<li>thu</li>\n",
       "\t<li>fri</li>\n",
       "\t<li>sat</li>\n",
       "\t<li>sun</li>\n",
       "\t<li>mon</li>\n",
       "\t<li>tue</li>\n",
       "\t<li>wed</li>\n",
       "\t<li>thu</li>\n",
       "\t<li>fri</li>\n",
       "\t<li>sat</li>\n",
       "\t<li>sun</li>\n",
       "\t<li>mon</li>\n",
       "\t<li>tue</li>\n",
       "\t<li>wed</li>\n",
       "\t<li>thu</li>\n",
       "\t<li>fri</li>\n",
       "</ol>\n"
      ],
      "text/latex": [
       "\\begin{enumerate*}\n",
       "\\item wed\n",
       "\\item thu\n",
       "\\item fri\n",
       "\\item sat\n",
       "\\item sun\n",
       "\\item mon\n",
       "\\item tue\n",
       "\\item wed\n",
       "\\item thu\n",
       "\\item fri\n",
       "\\item sat\n",
       "\\item sun\n",
       "\\item mon\n",
       "\\item tue\n",
       "\\item wed\n",
       "\\item thu\n",
       "\\item fri\n",
       "\\item sat\n",
       "\\item sun\n",
       "\\item mon\n",
       "\\item tue\n",
       "\\item wed\n",
       "\\item thu\n",
       "\\item fri\n",
       "\\item sat\n",
       "\\item sun\n",
       "\\item mon\n",
       "\\item tue\n",
       "\\item wed\n",
       "\\item thu\n",
       "\\item fri\n",
       "\\end{enumerate*}\n"
      ],
      "text/markdown": [
       "1. wed\n",
       "2. thu\n",
       "3. fri\n",
       "4. sat\n",
       "5. sun\n",
       "6. mon\n",
       "7. tue\n",
       "8. wed\n",
       "9. thu\n",
       "10. fri\n",
       "11. sat\n",
       "12. sun\n",
       "13. mon\n",
       "14. tue\n",
       "15. wed\n",
       "16. thu\n",
       "17. fri\n",
       "18. sat\n",
       "19. sun\n",
       "20. mon\n",
       "21. tue\n",
       "22. wed\n",
       "23. thu\n",
       "24. fri\n",
       "25. sat\n",
       "26. sun\n",
       "27. mon\n",
       "28. tue\n",
       "29. wed\n",
       "30. thu\n",
       "31. fri\n",
       "\n",
       "\n"
      ],
      "text/plain": [
       " [1] wed thu fri sat sun mon tue wed thu fri sat sun mon tue wed thu fri sat sun\n",
       "[20] mon tue wed thu fri sat sun mon tue wed thu fri\n",
       "Levels: tue wed thu fri sat sun mon"
      ]
     },
     "metadata": {},
     "output_type": "display_data"
    }
   ],
   "source": [
    "levels(dow) <- c('tue', 'wed', 'thu', 'fri', 'sat', 'sun', 'mon')\n",
    "dow"
   ]
  },
  {
   "cell_type": "code",
   "execution_count": 14,
   "metadata": {},
   "outputs": [
    {
     "data": {
      "text/html": [
       "<table>\n",
       "<thead><tr><th scope=col>day</th><th scope=col>day_of_week</th></tr></thead>\n",
       "<tbody>\n",
       "\t<tr><td> 1 </td><td>wed</td></tr>\n",
       "\t<tr><td> 2 </td><td>thu</td></tr>\n",
       "\t<tr><td> 3 </td><td>fri</td></tr>\n",
       "\t<tr><td> 4 </td><td>sat</td></tr>\n",
       "\t<tr><td> 5 </td><td>sun</td></tr>\n",
       "\t<tr><td> 6 </td><td>mon</td></tr>\n",
       "\t<tr><td> 7 </td><td>tue</td></tr>\n",
       "\t<tr><td> 8 </td><td>wed</td></tr>\n",
       "\t<tr><td> 9 </td><td>thu</td></tr>\n",
       "\t<tr><td>10 </td><td>fri</td></tr>\n",
       "</tbody>\n",
       "</table>\n"
      ],
      "text/latex": [
       "\\begin{tabular}{r|ll}\n",
       " day & day\\_of\\_week\\\\\n",
       "\\hline\n",
       "\t  1  & wed\\\\\n",
       "\t  2  & thu\\\\\n",
       "\t  3  & fri\\\\\n",
       "\t  4  & sat\\\\\n",
       "\t  5  & sun\\\\\n",
       "\t  6  & mon\\\\\n",
       "\t  7  & tue\\\\\n",
       "\t  8  & wed\\\\\n",
       "\t  9  & thu\\\\\n",
       "\t 10  & fri\\\\\n",
       "\\end{tabular}\n"
      ],
      "text/markdown": [
       "\n",
       "day | day_of_week | \n",
       "|---|---|---|---|---|---|---|---|---|---|\n",
       "|  1  | wed | \n",
       "|  2  | thu | \n",
       "|  3  | fri | \n",
       "|  4  | sat | \n",
       "|  5  | sun | \n",
       "|  6  | mon | \n",
       "|  7  | tue | \n",
       "|  8  | wed | \n",
       "|  9  | thu | \n",
       "| 10  | fri | \n",
       "\n",
       "\n"
      ],
      "text/plain": [
       "   day day_of_week\n",
       "1   1  wed        \n",
       "2   2  thu        \n",
       "3   3  fri        \n",
       "4   4  sat        \n",
       "5   5  sun        \n",
       "6   6  mon        \n",
       "7   7  tue        \n",
       "8   8  wed        \n",
       "9   9  thu        \n",
       "10 10  fri        "
      ]
     },
     "metadata": {},
     "output_type": "display_data"
    }
   ],
   "source": [
    "aug2017['day_of_week'] <- dow\n",
    "head(aug2017, n=10)"
   ]
  },
  {
   "cell_type": "markdown",
   "metadata": {},
   "source": [
    "## <a id=\"cut-function\">Cut Function</a>\n",
    "\n",
    "Another important way to generate factors is with the **cut** function.\n",
    "When a category value is to be based on a range of values for a variable,\n",
    "the `cut` function can be used to create a factor variables based on these\n",
    "ranges.  Its first three parameters are\n",
    "\n",
    "1. a numeric vector to cut\n",
    "2. a specification for the cuts\n",
    "3. (optional) labels for the cuts\n",
    "\n",
    "The result is a factor variable with the same length as the first argument.\n",
    "\n",
    "Let's try this out on the **InsectSprays** dataset."
   ]
  },
  {
   "cell_type": "code",
   "execution_count": 15,
   "metadata": {},
   "outputs": [
    {
     "data": {
      "text/html": [
       "<table>\n",
       "<thead><tr><th scope=col>count</th><th scope=col>spray</th></tr></thead>\n",
       "<tbody>\n",
       "\t<tr><td>10</td><td>A </td></tr>\n",
       "\t<tr><td> 7</td><td>A </td></tr>\n",
       "\t<tr><td>20</td><td>A </td></tr>\n",
       "\t<tr><td>14</td><td>A </td></tr>\n",
       "\t<tr><td>14</td><td>A </td></tr>\n",
       "\t<tr><td>12</td><td>A </td></tr>\n",
       "</tbody>\n",
       "</table>\n"
      ],
      "text/latex": [
       "\\begin{tabular}{r|ll}\n",
       " count & spray\\\\\n",
       "\\hline\n",
       "\t 10 & A \\\\\n",
       "\t  7 & A \\\\\n",
       "\t 20 & A \\\\\n",
       "\t 14 & A \\\\\n",
       "\t 14 & A \\\\\n",
       "\t 12 & A \\\\\n",
       "\\end{tabular}\n"
      ],
      "text/markdown": [
       "\n",
       "count | spray | \n",
       "|---|---|---|---|---|---|\n",
       "| 10 | A  | \n",
       "|  7 | A  | \n",
       "| 20 | A  | \n",
       "| 14 | A  | \n",
       "| 14 | A  | \n",
       "| 12 | A  | \n",
       "\n",
       "\n"
      ],
      "text/plain": [
       "  count spray\n",
       "1 10    A    \n",
       "2  7    A    \n",
       "3 20    A    \n",
       "4 14    A    \n",
       "5 14    A    \n",
       "6 12    A    "
      ]
     },
     "metadata": {},
     "output_type": "display_data"
    }
   ],
   "source": [
    "head(InsectSprays)"
   ]
  },
  {
   "cell_type": "markdown",
   "metadata": {},
   "source": [
    "The **count** column measures the insects eradicated by the spray.\n",
    "The **spray** column is an anonymized ID for the spray.  Let's split\n",
    "this dataset based on the \"quality\" of the spray, which we presume to\n",
    "be proportional to the eradication count.  We'll create a **quality**\n",
    "factor variable with value of either `bad`, `ok`, or `good` depending\n",
    "on the eradication count in two ways.\n",
    "\n",
    "1. `qualityA` - based on absolute values of the count\n",
    "2. `qualityC` - based on quantiles (college students refer to this as \"the curve\").\n",
    "\n",
    "For the absolute case, we simply divide the range of values into equal\n",
    "intervals."
   ]
  },
  {
   "cell_type": "code",
   "execution_count": 16,
   "metadata": {},
   "outputs": [
    {
     "data": {
      "text/plain": [
       "qualityA\n",
       "(-0.026,8.67]   (8.67,17.3]     (17.3,26] \n",
       "           37            25            10 "
      ]
     },
     "metadata": {},
     "output_type": "display_data"
    }
   ],
   "source": [
    "qualityA <- cut(InsectSprays$count, 3)\n",
    "table(qualityA)"
   ]
  },
  {
   "cell_type": "markdown",
   "metadata": {},
   "source": [
    "The names of the intervals default to a string representation of\n",
    "the intervals, which by default are open on the left and closed\n",
    "on the right.  Let's assign friendlier, if less informative, names\n",
    "with the label parameter."
   ]
  },
  {
   "cell_type": "code",
   "execution_count": 17,
   "metadata": {},
   "outputs": [
    {
     "data": {
      "text/plain": [
       "qualityA\n",
       " bad   ok good \n",
       "  37   25   10 "
      ]
     },
     "metadata": {},
     "output_type": "display_data"
    }
   ],
   "source": [
    "qualityA <- cut(InsectSprays$count, 3, labels=c('bad', 'ok', 'good'))\n",
    "table(qualityA)"
   ]
  },
  {
   "cell_type": "markdown",
   "metadata": {},
   "source": [
    "For the absolute case above, we specified the number of breaks (`3`) and\n",
    "let the `cut` function establish the equal intervals.  If we want more\n",
    "control, we can specify the breaks ourselves.  Since we're grading on a\n",
    "curve, we assign\n",
    "\n",
    "* `bad` - to the lower third\n",
    "* `ok` - to the middle third\n",
    "* `good` - to the upper third\n",
    "\n",
    "We use the `quantile` function to determine the break points."
   ]
  },
  {
   "cell_type": "code",
   "execution_count": 19,
   "metadata": {},
   "outputs": [
    {
     "data": {
      "text/html": [
       "<dl class=dl-horizontal>\n",
       "\t<dt>0%</dt>\n",
       "\t\t<dd>0</dd>\n",
       "\t<dt>33%</dt>\n",
       "\t\t<dd>4.43</dd>\n",
       "\t<dt>66%</dt>\n",
       "\t\t<dd>13</dd>\n",
       "\t<dt>100%</dt>\n",
       "\t\t<dd>26</dd>\n",
       "</dl>\n"
      ],
      "text/latex": [
       "\\begin{description*}\n",
       "\\item[0\\textbackslash{}\\%] 0\n",
       "\\item[33\\textbackslash{}\\%] 4.43\n",
       "\\item[66\\textbackslash{}\\%] 13\n",
       "\\item[100\\textbackslash{}\\%] 26\n",
       "\\end{description*}\n"
      ],
      "text/markdown": [
       "0%\n",
       ":   033%\n",
       ":   4.4366%\n",
       ":   13100%\n",
       ":   26\n",
       "\n"
      ],
      "text/plain": [
       "   0%   33%   66%  100% \n",
       " 0.00  4.43 13.00 26.00 "
      ]
     },
     "metadata": {},
     "output_type": "display_data"
    }
   ],
   "source": [
    "curveBreakPoints <- quantile(InsectSprays$count, c(0, .33, .66, 1))\n",
    "curveBreakPoints"
   ]
  },
  {
   "cell_type": "code",
   "execution_count": 20,
   "metadata": {},
   "outputs": [
    {
     "data": {
      "text/plain": [
       "qualityC\n",
       " bad   ok good \n",
       "  22   26   22 "
      ]
     },
     "metadata": {},
     "output_type": "display_data"
    }
   ],
   "source": [
    "qualityC <- cut(InsectSprays$count, curveBreakPoints, labels=c('bad', 'ok', 'good'))\n",
    "table(qualityC)"
   ]
  },
  {
   "cell_type": "markdown",
   "metadata": {},
   "source": [
    "Since `qualityC` is based on a curve, one might expect the numbers in\n",
    "each bucket to be closer together.  This is only approximate due to the\n",
    "different ways quantiles can be computed.  (Check the `quantile` help\n",
    "documentation; there are no fewer than **nine** algorithms from which\n",
    "to choose).  The default is usually fine.\n",
    "\n",
    "Now that we have \"quality buckets\", let's see how they split the spray\n",
    "brands."
   ]
  },
  {
   "cell_type": "code",
   "execution_count": 21,
   "metadata": {},
   "outputs": [
    {
     "data": {
      "text/plain": [
       "   qualityA\n",
       "    bad ok good\n",
       "  A   1  8    3\n",
       "  B   1  8    3\n",
       "  C  12  0    0\n",
       "  D  11  1    0\n",
       "  E  12  0    0\n",
       "  F   0  8    4"
      ]
     },
     "metadata": {},
     "output_type": "display_data"
    },
    {
     "data": {
      "text/plain": [
       "   qualityC\n",
       "    bad ok good\n",
       "  A   0  5    7\n",
       "  B   0  4    8\n",
       "  C   9  1    0\n",
       "  D   5  7    0\n",
       "  E   8  4    0\n",
       "  F   0  5    7"
      ]
     },
     "metadata": {},
     "output_type": "display_data"
    }
   ],
   "source": [
    "table(InsectSprays$spray, qualityA)\n",
    "table(InsectSprays$spray, qualityC)"
   ]
  },
  {
   "cell_type": "markdown",
   "metadata": {},
   "source": [
    "We can see how our choice of splitting affected the distribution of\n",
    "sprays into `bad`, `ok`, and `good`."
   ]
  }
 ],
 "metadata": {
  "kernelspec": {
   "display_name": "R",
   "language": "R",
   "name": "ir"
  },
  "language_info": {
   "codemirror_mode": "r",
   "file_extension": ".r",
   "mimetype": "text/x-r-source",
   "name": "R",
   "pygments_lexer": "r",
   "version": "3.3.2"
  }
 },
 "nbformat": 4,
 "nbformat_minor": 1
}
