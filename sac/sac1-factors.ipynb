{
 "cells": [
  {
   "cell_type": "markdown",
   "metadata": {},
   "source": [
    "# Exploring Factor Variables\n",
    "\n",
    "Factor variables, also known as categorical variables, usually convey\n",
    "a qualitative characteristic instead of a quantitative one.  Examples\n",
    "of factor variables are\n",
    "\n",
    "* a product brand\n",
    "* a person's ethnicity\n",
    "* a label for a diet\n",
    "\n",
    "Factor variables in R are often created from strings."
   ]
  },
  {
   "cell_type": "code",
   "execution_count": 1,
   "metadata": {},
   "outputs": [
    {
     "data": {
      "text/html": [
       "<ol class=list-inline>\n",
       "\t<li>'one'</li>\n",
       "\t<li>'one'</li>\n",
       "\t<li>'two'</li>\n",
       "\t<li>'two'</li>\n",
       "\t<li>'one'</li>\n",
       "</ol>\n"
      ],
      "text/latex": [
       "\\begin{enumerate*}\n",
       "\\item 'one'\n",
       "\\item 'one'\n",
       "\\item 'two'\n",
       "\\item 'two'\n",
       "\\item 'one'\n",
       "\\end{enumerate*}\n"
      ],
      "text/markdown": [
       "1. 'one'\n",
       "2. 'one'\n",
       "3. 'two'\n",
       "4. 'two'\n",
       "5. 'one'\n",
       "\n",
       "\n"
      ],
      "text/plain": [
       "[1] \"one\" \"one\" \"two\" \"two\" \"one\""
      ]
     },
     "metadata": {},
     "output_type": "display_data"
    }
   ],
   "source": [
    "myStringList <- c('one', 'one', 'two', 'two', 'one')\n",
    "myStringList"
   ]
  },
  {
   "cell_type": "markdown",
   "metadata": {},
   "source": [
    "From such a list of strings that represent the factor values we\n",
    "can designate it as a factor to R using the **as.factor** function."
   ]
  },
  {
   "cell_type": "code",
   "execution_count": 2,
   "metadata": {},
   "outputs": [
    {
     "data": {
      "text/html": [
       "<ol class=list-inline>\n",
       "\t<li>one</li>\n",
       "\t<li>one</li>\n",
       "\t<li>two</li>\n",
       "\t<li>two</li>\n",
       "\t<li>one</li>\n",
       "</ol>\n"
      ],
      "text/latex": [
       "\\begin{enumerate*}\n",
       "\\item one\n",
       "\\item one\n",
       "\\item two\n",
       "\\item two\n",
       "\\item one\n",
       "\\end{enumerate*}\n"
      ],
      "text/markdown": [
       "1. one\n",
       "2. one\n",
       "3. two\n",
       "4. two\n",
       "5. one\n",
       "\n",
       "\n"
      ],
      "text/plain": [
       "[1] one one two two one\n",
       "Levels: one two"
      ]
     },
     "metadata": {},
     "output_type": "display_data"
    }
   ],
   "source": [
    "myFactor <- as.factor(myStringList)\n",
    "myFactor"
   ]
  },
  {
   "cell_type": "markdown",
   "metadata": {},
   "source": [
    "The **levels** command provides us a list of the unique factors\n",
    "stored in a variable."
   ]
  },
  {
   "cell_type": "code",
   "execution_count": 3,
   "metadata": {},
   "outputs": [
    {
     "data": {
      "text/html": [
       "<ol class=list-inline>\n",
       "\t<li>'one'</li>\n",
       "\t<li>'two'</li>\n",
       "</ol>\n"
      ],
      "text/latex": [
       "\\begin{enumerate*}\n",
       "\\item 'one'\n",
       "\\item 'two'\n",
       "\\end{enumerate*}\n"
      ],
      "text/markdown": [
       "1. 'one'\n",
       "2. 'two'\n",
       "\n",
       "\n"
      ],
      "text/plain": [
       "[1] \"one\" \"two\""
      ]
     },
     "metadata": {},
     "output_type": "display_data"
    }
   ],
   "source": [
    "levels(myFactor)"
   ]
  },
  {
   "cell_type": "markdown",
   "metadata": {},
   "source": [
    "We can assign to labels to the levels by assigning to the\n",
    "output of the levels command."
   ]
  },
  {
   "cell_type": "code",
   "execution_count": 4,
   "metadata": {},
   "outputs": [
    {
     "data": {
      "text/html": [
       "<ol class=list-inline>\n",
       "\t<li>first</li>\n",
       "\t<li>first</li>\n",
       "\t<li>second</li>\n",
       "\t<li>second</li>\n",
       "\t<li>first</li>\n",
       "</ol>\n"
      ],
      "text/latex": [
       "\\begin{enumerate*}\n",
       "\\item first\n",
       "\\item first\n",
       "\\item second\n",
       "\\item second\n",
       "\\item first\n",
       "\\end{enumerate*}\n"
      ],
      "text/markdown": [
       "1. first\n",
       "2. first\n",
       "3. second\n",
       "4. second\n",
       "5. first\n",
       "\n",
       "\n"
      ],
      "text/plain": [
       "[1] first  first  second second first \n",
       "Levels: first second"
      ]
     },
     "metadata": {},
     "output_type": "display_data"
    }
   ],
   "source": [
    "levels(myFactor) <- c('first', 'second')\n",
    "myFactor"
   ]
  },
  {
   "cell_type": "markdown",
   "metadata": {},
   "source": [
    "Factor counts are easily tabulated with the **table** command."
   ]
  },
  {
   "cell_type": "code",
   "execution_count": 5,
   "metadata": {},
   "outputs": [
    {
     "data": {
      "text/plain": [
       "myFactor\n",
       " first second \n",
       "     3      2 "
      ]
     },
     "metadata": {},
     "output_type": "display_data"
    }
   ],
   "source": [
    "table(myFactor)"
   ]
  },
  {
   "cell_type": "markdown",
   "metadata": {},
   "source": [
    "Let's experiment with a larger dataset like `ChickWeight`."
   ]
  },
  {
   "cell_type": "code",
   "execution_count": 6,
   "metadata": {},
   "outputs": [
    {
     "data": {
      "text/html": [
       "<table>\n",
       "<thead><tr><th scope=col>weight</th><th scope=col>Time</th><th scope=col>Chick</th><th scope=col>Diet</th></tr></thead>\n",
       "<tbody>\n",
       "\t<tr><td> 42</td><td> 0 </td><td>1  </td><td>1  </td></tr>\n",
       "\t<tr><td> 51</td><td> 2 </td><td>1  </td><td>1  </td></tr>\n",
       "\t<tr><td> 59</td><td> 4 </td><td>1  </td><td>1  </td></tr>\n",
       "\t<tr><td> 64</td><td> 6 </td><td>1  </td><td>1  </td></tr>\n",
       "\t<tr><td> 76</td><td> 8 </td><td>1  </td><td>1  </td></tr>\n",
       "\t<tr><td> 93</td><td>10 </td><td>1  </td><td>1  </td></tr>\n",
       "\t<tr><td>106</td><td>12 </td><td>1  </td><td>1  </td></tr>\n",
       "\t<tr><td>125</td><td>14 </td><td>1  </td><td>1  </td></tr>\n",
       "\t<tr><td>149</td><td>16 </td><td>1  </td><td>1  </td></tr>\n",
       "\t<tr><td>171</td><td>18 </td><td>1  </td><td>1  </td></tr>\n",
       "</tbody>\n",
       "</table>\n"
      ],
      "text/latex": [
       "\\begin{tabular}{r|llll}\n",
       " weight & Time & Chick & Diet\\\\\n",
       "\\hline\n",
       "\t  42 &  0  & 1   & 1  \\\\\n",
       "\t  51 &  2  & 1   & 1  \\\\\n",
       "\t  59 &  4  & 1   & 1  \\\\\n",
       "\t  64 &  6  & 1   & 1  \\\\\n",
       "\t  76 &  8  & 1   & 1  \\\\\n",
       "\t  93 & 10  & 1   & 1  \\\\\n",
       "\t 106 & 12  & 1   & 1  \\\\\n",
       "\t 125 & 14  & 1   & 1  \\\\\n",
       "\t 149 & 16  & 1   & 1  \\\\\n",
       "\t 171 & 18  & 1   & 1  \\\\\n",
       "\\end{tabular}\n"
      ],
      "text/markdown": [
       "\n",
       "weight | Time | Chick | Diet | \n",
       "|---|---|---|---|---|---|---|---|---|---|\n",
       "|  42 |  0  | 1   | 1   | \n",
       "|  51 |  2  | 1   | 1   | \n",
       "|  59 |  4  | 1   | 1   | \n",
       "|  64 |  6  | 1   | 1   | \n",
       "|  76 |  8  | 1   | 1   | \n",
       "|  93 | 10  | 1   | 1   | \n",
       "| 106 | 12  | 1   | 1   | \n",
       "| 125 | 14  | 1   | 1   | \n",
       "| 149 | 16  | 1   | 1   | \n",
       "| 171 | 18  | 1   | 1   | \n",
       "\n",
       "\n"
      ],
      "text/plain": [
       "   weight Time Chick Diet\n",
       "1   42     0   1     1   \n",
       "2   51     2   1     1   \n",
       "3   59     4   1     1   \n",
       "4   64     6   1     1   \n",
       "5   76     8   1     1   \n",
       "6   93    10   1     1   \n",
       "7  106    12   1     1   \n",
       "8  125    14   1     1   \n",
       "9  149    16   1     1   \n",
       "10 171    18   1     1   "
      ]
     },
     "metadata": {},
     "output_type": "display_data"
    }
   ],
   "source": [
    "cw <- ChickWeight\n",
    "head(cw, n=10)"
   ]
  },
  {
   "cell_type": "markdown",
   "metadata": {},
   "source": [
    "This is a dataset that records the weight of a set of\n",
    "baby chickens fed on different diets.  The `Chick` and\n",
    "`Diet` variables are factors."
   ]
  },
  {
   "cell_type": "code",
   "execution_count": 7,
   "metadata": {},
   "outputs": [
    {
     "name": "stdout",
     "output_type": "stream",
     "text": [
      " Ord.factor w/ 50 levels \"18\"<\"16\"<\"15\"<..: 15 15 15 15 15 15 15 15 15 15 ...\n",
      " Factor w/ 4 levels \"1\",\"2\",\"3\",\"4\": 1 1 1 1 1 1 1 1 1 1 ...\n"
     ]
    }
   ],
   "source": [
    "str(cw$Chick)\n",
    "str(cw$Diet)"
   ]
  },
  {
   "cell_type": "markdown",
   "metadata": {},
   "source": [
    "We can quickly compare the counts for each diet."
   ]
  },
  {
   "cell_type": "code",
   "execution_count": 8,
   "metadata": {},
   "outputs": [
    {
     "data": {
      "text/plain": [
       "\n",
       "  1   2   3   4 \n",
       "220 120 120 118 "
      ]
     },
     "metadata": {},
     "output_type": "display_data"
    }
   ],
   "source": [
    "table(cw$Diet)"
   ]
  },
  {
   "cell_type": "markdown",
   "metadata": {},
   "source": [
    "We can see that they are not all equal.  By supplying two\n",
    "arguments to `table`, we get a 2-D table.  The first argument\n",
    "will represent the rows, the second the columns."
   ]
  },
  {
   "cell_type": "code",
   "execution_count": 9,
   "metadata": {},
   "outputs": [
    {
     "data": {
      "text/plain": [
       "    \n",
       "      1  2  3  4\n",
       "  0  20 10 10 10\n",
       "  2  20 10 10 10\n",
       "  4  19 10 10 10\n",
       "  6  19 10 10 10\n",
       "  8  19 10 10 10\n",
       "  10 19 10 10 10\n",
       "  12 19 10 10 10\n",
       "  14 18 10 10 10\n",
       "  16 17 10 10 10\n",
       "  18 17 10 10 10\n",
       "  20 17 10 10  9\n",
       "  21 16 10 10  9"
      ]
     },
     "metadata": {},
     "output_type": "display_data"
    }
   ],
   "source": [
    "table(cw$Time, cw$Diet)"
   ]
  },
  {
   "cell_type": "markdown",
   "metadata": {},
   "source": [
    "We still have the sum of counts for each of the diets.\n",
    "But this time is broken down for each `Time` since we\n",
    "added `Time` as a parameter.\n",
    "\n",
    "Another way to produce tables is with the `xtabs` command.\n",
    "The `xtabs` command accepts a forumula for its first parameter\n",
    "and a data frame for its second parameter.  Formulas take some\n",
    "getting used to; but they are more flexible."
   ]
  },
  {
   "cell_type": "code",
   "execution_count": 10,
   "metadata": {},
   "outputs": [
    {
     "data": {
      "text/plain": [
       "Diet\n",
       "  1   2   3   4 \n",
       "220 120 120 118 "
      ]
     },
     "metadata": {},
     "output_type": "display_data"
    }
   ],
   "source": [
    "xtabs( ~ Diet, cw)"
   ]
  },
  {
   "cell_type": "markdown",
   "metadata": {},
   "source": [
    "The formula ` ~ Diet` has nothing on the left hand side and\n",
    "`Diet` on the right hand side.  When there is nothing on the\n",
    "left hand side, that means use counts (just like the `table`\n",
    "command).  The right hand side determines the column to count.\n",
    "\n",
    "The equivalent of the two-argument `table` command for `xtabs`\n",
    "is"
   ]
  },
  {
   "cell_type": "code",
   "execution_count": 11,
   "metadata": {},
   "outputs": [
    {
     "data": {
      "text/plain": [
       "    Diet\n",
       "Time  1  2  3  4\n",
       "  0  20 10 10 10\n",
       "  2  20 10 10 10\n",
       "  4  19 10 10 10\n",
       "  6  19 10 10 10\n",
       "  8  19 10 10 10\n",
       "  10 19 10 10 10\n",
       "  12 19 10 10 10\n",
       "  14 18 10 10 10\n",
       "  16 17 10 10 10\n",
       "  18 17 10 10 10\n",
       "  20 17 10 10  9\n",
       "  21 16 10 10  9"
      ]
     },
     "metadata": {},
     "output_type": "display_data"
    }
   ],
   "source": [
    "xtabs( ~ Time + Diet, cw)"
   ]
  },
  {
   "cell_type": "markdown",
   "metadata": {},
   "source": [
    "Once again, the left hand side is empty.  The right hand side\n",
    "separates its elements with the `+` symbol.  The first specifies\n",
    "the rows and the second specifies the columns, just like with\n",
    "the `table` command.\n",
    "\n",
    "So far we've left the left hand side blank, which counts the\n",
    "various entries.  But the left hand side allows us to do more\n",
    "than count they entries.  We can add values rather than simply\n",
    "count them.  Let's add the associated `weight` value for each\n",
    "of the pairs."
   ]
  },
  {
   "cell_type": "code",
   "execution_count": 12,
   "metadata": {},
   "outputs": [
    {
     "data": {
      "text/plain": [
       "    Diet\n",
       "Time    1    2    3    4\n",
       "  0   828  407  408  410\n",
       "  2   945  494  504  518\n",
       "  4  1073  598  622  645\n",
       "  6  1269  754  779  839\n",
       "  8  1514  917  984 1056\n",
       "  10 1768 1085 1171 1260\n",
       "  12 2062 1313 1444 1514\n",
       "  14 2221 1419 1645 1618\n",
       "  16 2459 1647 1974 1820\n",
       "  18 2702 1877 2331 2029\n",
       "  20 2897 2056 2589 2105\n",
       "  21 2844 2147 2703 2147"
      ]
     },
     "metadata": {},
     "output_type": "display_data"
    }
   ],
   "source": [
    "xtabs(weight ~ Time + Diet, cw)"
   ]
  },
  {
   "cell_type": "markdown",
   "metadata": {},
   "source": [
    "In the above example, we used the values of factor variables\n",
    "to **split** the dataset into a collection of disjoint\n",
    "subsets.  Each subset corresponds to a particular combination\n",
    "of `Time` and `Diet`.  The `weight` values for each subset were\n",
    "summed.\n",
    "\n",
    "The **aggregate** function allows us to extend this notion beyond\n",
    "sums to arbitrary operations.  Let's say were intersted in the\n",
    "**mean** rather than the sum of each `Time` x `Diet` combination."
   ]
  },
  {
   "cell_type": "code",
   "execution_count": 14,
   "metadata": {},
   "outputs": [
    {
     "data": {
      "text/html": [
       "<table>\n",
       "<thead><tr><th scope=col>Time</th><th scope=col>Diet</th><th scope=col>weight</th></tr></thead>\n",
       "<tbody>\n",
       "\t<tr><td> 0       </td><td>1        </td><td> 41.40000</td></tr>\n",
       "\t<tr><td> 2       </td><td>1        </td><td> 47.25000</td></tr>\n",
       "\t<tr><td> 4       </td><td>1        </td><td> 56.47368</td></tr>\n",
       "\t<tr><td> 6       </td><td>1        </td><td> 66.78947</td></tr>\n",
       "\t<tr><td> 8       </td><td>1        </td><td> 79.68421</td></tr>\n",
       "\t<tr><td>10       </td><td>1        </td><td> 93.05263</td></tr>\n",
       "\t<tr><td>12       </td><td>1        </td><td>108.52632</td></tr>\n",
       "\t<tr><td>14       </td><td>1        </td><td>123.38889</td></tr>\n",
       "\t<tr><td>16       </td><td>1        </td><td>144.64706</td></tr>\n",
       "\t<tr><td>18       </td><td>1        </td><td>158.94118</td></tr>\n",
       "</tbody>\n",
       "</table>\n"
      ],
      "text/latex": [
       "\\begin{tabular}{r|lll}\n",
       " Time & Diet & weight\\\\\n",
       "\\hline\n",
       "\t  0        & 1         &  41.40000\\\\\n",
       "\t  2        & 1         &  47.25000\\\\\n",
       "\t  4        & 1         &  56.47368\\\\\n",
       "\t  6        & 1         &  66.78947\\\\\n",
       "\t  8        & 1         &  79.68421\\\\\n",
       "\t 10        & 1         &  93.05263\\\\\n",
       "\t 12        & 1         & 108.52632\\\\\n",
       "\t 14        & 1         & 123.38889\\\\\n",
       "\t 16        & 1         & 144.64706\\\\\n",
       "\t 18        & 1         & 158.94118\\\\\n",
       "\\end{tabular}\n"
      ],
      "text/markdown": [
       "\n",
       "Time | Diet | weight | \n",
       "|---|---|---|---|---|---|---|---|---|---|\n",
       "|  0        | 1         |  41.40000 | \n",
       "|  2        | 1         |  47.25000 | \n",
       "|  4        | 1         |  56.47368 | \n",
       "|  6        | 1         |  66.78947 | \n",
       "|  8        | 1         |  79.68421 | \n",
       "| 10        | 1         |  93.05263 | \n",
       "| 12        | 1         | 108.52632 | \n",
       "| 14        | 1         | 123.38889 | \n",
       "| 16        | 1         | 144.64706 | \n",
       "| 18        | 1         | 158.94118 | \n",
       "\n",
       "\n"
      ],
      "text/plain": [
       "   Time Diet weight   \n",
       "1   0   1     41.40000\n",
       "2   2   1     47.25000\n",
       "3   4   1     56.47368\n",
       "4   6   1     66.78947\n",
       "5   8   1     79.68421\n",
       "6  10   1     93.05263\n",
       "7  12   1    108.52632\n",
       "8  14   1    123.38889\n",
       "9  16   1    144.64706\n",
       "10 18   1    158.94118"
      ]
     },
     "metadata": {},
     "output_type": "display_data"
    }
   ],
   "source": [
    "ag <- aggregate(weight ~ Time + Diet, cw, mean)\n",
    "head(ag, n=10)"
   ]
  },
  {
   "cell_type": "markdown",
   "metadata": {},
   "source": [
    "The `aggregate` function offers a formula interface much like `xtabs`.\n",
    "There are several differences.\n",
    "\n",
    "* There is a third parameter to specify an arbitrary function\n",
    "  to operate on the variable specified by the left hand side\n",
    "  of the formula.\n",
    "\n",
    "* The result is a `data.frame` where the right hand side variables\n",
    "  are columns rather than dimention labels of a table.\n",
    "\n",
    "The third parameter does not have to be a predefined R function.\n",
    "We can dynamically provide our own."
   ]
  },
  {
   "cell_type": "code",
   "execution_count": 15,
   "metadata": {},
   "outputs": [
    {
     "data": {
      "text/html": [
       "<table>\n",
       "<thead><tr><th scope=col>Time</th><th scope=col>Diet</th><th scope=col>weight</th></tr></thead>\n",
       "<tbody>\n",
       "\t<tr><td> 0 </td><td>1  </td><td>  4</td></tr>\n",
       "\t<tr><td> 2 </td><td>1  </td><td> 16</td></tr>\n",
       "\t<tr><td> 4 </td><td>1  </td><td> 15</td></tr>\n",
       "\t<tr><td> 6 </td><td>1  </td><td> 33</td></tr>\n",
       "\t<tr><td> 8 </td><td>1  </td><td> 55</td></tr>\n",
       "\t<tr><td>10 </td><td>1  </td><td> 88</td></tr>\n",
       "\t<tr><td>12 </td><td>1  </td><td>114</td></tr>\n",
       "\t<tr><td>14 </td><td>1  </td><td>124</td></tr>\n",
       "\t<tr><td>16 </td><td>1  </td><td>156</td></tr>\n",
       "\t<tr><td>18 </td><td>1  </td><td>169</td></tr>\n",
       "</tbody>\n",
       "</table>\n"
      ],
      "text/latex": [
       "\\begin{tabular}{r|lll}\n",
       " Time & Diet & weight\\\\\n",
       "\\hline\n",
       "\t  0  & 1   &   4\\\\\n",
       "\t  2  & 1   &  16\\\\\n",
       "\t  4  & 1   &  15\\\\\n",
       "\t  6  & 1   &  33\\\\\n",
       "\t  8  & 1   &  55\\\\\n",
       "\t 10  & 1   &  88\\\\\n",
       "\t 12  & 1   & 114\\\\\n",
       "\t 14  & 1   & 124\\\\\n",
       "\t 16  & 1   & 156\\\\\n",
       "\t 18  & 1   & 169\\\\\n",
       "\\end{tabular}\n"
      ],
      "text/markdown": [
       "\n",
       "Time | Diet | weight | \n",
       "|---|---|---|---|---|---|---|---|---|---|\n",
       "|  0  | 1   |   4 | \n",
       "|  2  | 1   |  16 | \n",
       "|  4  | 1   |  15 | \n",
       "|  6  | 1   |  33 | \n",
       "|  8  | 1   |  55 | \n",
       "| 10  | 1   |  88 | \n",
       "| 12  | 1   | 114 | \n",
       "| 14  | 1   | 124 | \n",
       "| 16  | 1   | 156 | \n",
       "| 18  | 1   | 169 | \n",
       "\n",
       "\n"
      ],
      "text/plain": [
       "   Time Diet weight\n",
       "1   0   1      4   \n",
       "2   2   1     16   \n",
       "3   4   1     15   \n",
       "4   6   1     33   \n",
       "5   8   1     55   \n",
       "6  10   1     88   \n",
       "7  12   1    114   \n",
       "8  14   1    124   \n",
       "9  16   1    156   \n",
       "10 18   1    169   "
      ]
     },
     "metadata": {},
     "output_type": "display_data"
    }
   ],
   "source": [
    "ag <- aggregate(weight ~ Time + Diet, cw, function(x) { max(x) - min(x) })\n",
    "head(ag, n=10)"
   ]
  },
  {
   "cell_type": "markdown",
   "metadata": {},
   "source": [
    "## Summary\n",
    "\n",
    "In this *R Warm-up* we explored factor variables.\n",
    "A vector can be converted to a factor type using the\n",
    "`as.Factor` function.\n",
    "\n",
    "A factor variable is *qualitative* rather than\n",
    "quantitative in character.  Even when represented with\n",
    "numbers, quantitative calculations on a factor variable,\n",
    "such as average, maximum, or variance, don't usually make\n",
    "sense.  A popular use for factor variables is to *split*\n",
    "a dataset by grouping members of the set according to the\n",
    "value of the factor variable.\n",
    "\n",
    "R provides functions for analyzing the distribution of the\n",
    "values of a factor variable.  We explored a few of these,\n",
    "namely `table` and `xtabs`.  The `xtabs` function extended\n",
    "the capabilities of `table` by allowing for sums of particular\n",
    "columns rather than just the counts of each combination of\n",
    "factors."
   ]
  }
 ],
 "metadata": {
  "kernelspec": {
   "display_name": "R",
   "language": "R",
   "name": "ir"
  },
  "language_info": {
   "codemirror_mode": "r",
   "file_extension": ".r",
   "mimetype": "text/x-r-source",
   "name": "R",
   "pygments_lexer": "r",
   "version": "3.3.2"
  }
 },
 "nbformat": 4,
 "nbformat_minor": 1
}
